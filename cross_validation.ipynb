{
 "cells": [
  {
   "cell_type": "code",
   "execution_count": 1,
   "id": "1dcad639-51cb-4e2e-962d-34f59684f6c6",
   "metadata": {},
   "outputs": [],
   "source": [
    "import glob\n",
    "import os\n",
    "import time\n",
    "\n",
    "import warnings\n",
    "\n",
    "import matplotlib.pyplot as plt\n",
    "import numpy as np\n",
    "import pandas as pd\n",
    "import torch\n",
    "\n",
    "from darts import TimeSeries, concatenate\n",
    "from darts.dataprocessing.transformers import Scaler\n",
    "from darts.datasets import AirPassengersDataset, IceCreamHeaterDataset\n",
    "from darts.metrics import mape\n",
    "from darts.models import TFTModel\n",
    "from darts.utils.likelihood_models import QuantileRegression\n",
    "from darts.utils.statistics import check_seasonality, plot_acf\n",
    "from darts.utils.timeseries_generation import datetime_attribute_timeseries\n",
    "from pytorch_lightning.utilities.model_summary import summarize\n",
    "\n",
    "\n",
    "from sklearn.preprocessing import StandardScaler\n",
    "from tqdm.auto import tqdm\n",
    "from itertools import product\n",
    "from typing import Optional\n",
    "\n",
    "\n",
    "from darts import TimeSeries\n",
    "from darts.dataprocessing.transformers import Scaler\n",
    "from darts.metrics import mae, mase, rmse\n",
    "from darts.models import (\n",
    "    ARIMA,\n",
    "    ExponentialSmoothing,\n",
    "    KalmanForecaster,\n",
    "    LightGBMModel,\n",
    "    LinearRegressionModel,\n",
    "    NaiveSeasonal,\n",
    "    NBEATSModel,\n",
    "    RandomForest,\n",
    "    TransformerModel,\n",
    "    RNNModel\n",
    ")\n",
    "from darts.utils.losses import SmapeLoss, MAELoss\n",
    "\n",
    "warnings.filterwarnings(\"ignore\")\n",
    "import logging\n",
    "\n",
    "logging.disable(logging.CRITICAL)"
   ]
  },
  {
   "cell_type": "code",
   "execution_count": 23,
   "id": "f925cf5f-023c-4671-b803-2aed30aa7ad9",
   "metadata": {},
   "outputs": [],
   "source": [
    "def read_data(folder_path: str) -> list[tuple[str, TimeSeries]]:\n",
    "    csv_files = glob.glob(os.path.join(folder_path, '*.csv'))\n",
    "    series = []\n",
    "    for csv in csv_files:\n",
    "        data = pd.read_csv(csv)\n",
    "        data[\"Time\"] = pd.to_datetime(data[\"Time\"])\n",
    "        data[\"time_idx\"] = (data[\"Time\"].astype(int) // 10**9) // 300\n",
    "        data[\"time_idx\"] -= data[\"time_idx\"].min()\n",
    "        data[\"hour\"] = data[\"Time\"].dt.hour\n",
    "        data = data.drop(columns=[\"Time\"])\n",
    "        \n",
    "        ts = TimeSeries.from_dataframe(data, time_col=\"time_idx\")\n",
    "        patient_id = os.path.basename(csv).replace(\".csv\", \"\")\n",
    "        series.append((patient_id, ts))\n",
    "    \n",
    "    return series"
   ]
  },
  {
   "cell_type": "code",
   "execution_count": 69,
   "id": "f5844c20-2a02-4bd4-bfb4-c7fbab8365d0",
   "metadata": {},
   "outputs": [
    {
     "name": "stdout",
     "output_type": "stream",
     "text": [
      "Fold 1:\n",
      "Train: 0 to 863  | Length: 864\n",
      "Test : 864 to 1727    | Length: 864\n",
      "-----------\n",
      "Fold 2:\n",
      "Train: 0 to 1727  | Length: 1728\n",
      "Test : 1728 to 2591    | Length: 864\n",
      "-----------\n",
      "Fold 3:\n",
      "Train: 0 to 2591  | Length: 2592\n",
      "Test : 2592 to 3455    | Length: 864\n",
      "-----------\n",
      "Fold 4:\n",
      "Train: 0 to 3455  | Length: 3456\n",
      "Test : 3456 to 4319    | Length: 864\n",
      "-----------\n",
      "Fold 5:\n",
      "Train: 0 to 4319  | Length: 4320\n",
      "Test : 4320 to 5183    | Length: 864\n",
      "-----------\n",
      "Fold 6:\n",
      "Train: 0 to 5183  | Length: 5184\n",
      "Test : 5184 to 6047    | Length: 864\n",
      "-----------\n",
      "Fold 7:\n",
      "Train: 0 to 6047  | Length: 6048\n",
      "Test : 6048 to 6911    | Length: 864\n",
      "-----------\n",
      "Fold 8:\n",
      "Train: 0 to 6911  | Length: 6912\n",
      "Test : 6912 to 7775    | Length: 864\n",
      "-----------\n",
      "Fold 9:\n",
      "Train: 0 to 7775  | Length: 7776\n",
      "Test : 7776 to 8639    | Length: 864\n",
      "-----------\n"
     ]
    }
   ],
   "source": [
    "n = len(cgm_series)\n",
    "k = 10  # number of blocks\n",
    "block_size = n // k\n",
    "\n",
    "splits = []\n",
    "\n",
    "for i in range(1, k):\n",
    "    train = cgm_series[:i * block_size]\n",
    "    test = cgm_series[i * block_size:(i + 1) * block_size]\n",
    "    splits.append((train, test))\n",
    "\n",
    "# Now `splits` contains 9 train/test folds (Fold 1 uses block 0 for training and block 1 for testing, etc.)\n",
    "\n",
    "# Optional: print shapes\n",
    "for idx, (train, test) in enumerate(splits):\n",
    "    print(f\"Fold {idx + 1}:\")\n",
    "    print(f\"Train: {train.start_time()} to {train.end_time()}  | Length: {len(train)}\")\n",
    "    print(f\"Test : {test.start_time()} to {test.end_time()}    | Length: {len(test)}\")\n",
    "    print(\"-----------\")"
   ]
  },
  {
   "cell_type": "markdown",
   "id": "c43b5bc1-5d62-4449-b979-b9b15afd7d60",
   "metadata": {},
   "source": [
    "# Clarckes Error Grid"
   ]
  },
  {
   "cell_type": "code",
   "execution_count": 16,
   "id": "3c56c318-c772-447e-b34c-ca5157161aba",
   "metadata": {},
   "outputs": [],
   "source": [
    "zone_names = ['A', 'B', 'C', 'D', 'E']\n",
    "def clarke_error_grid(ref_values, pred_values, title_string):\n",
    "\n",
    "    #Checking to see if the lengths of the reference and prediction arrays are the same\n",
    "    assert (len(ref_values) == len(pred_values)), \"Unequal number of values (reference : {}) (prediction : {}).\".format(len(ref_values), len(pred_values))\n",
    "\n",
    "    #Checks to see if the values are within the normal physiological range, otherwise it gives a warning\n",
    "    if max(ref_values) > 400 or max(pred_values) > 400:\n",
    "        print(\"Input Warning: the maximum reference value {} or the maximum prediction value {} exceeds the normal physiological range of glucose (<400 mg/dl).\".format(max(ref_values), max(pred_values)))\n",
    "    if min(ref_values) < 0 or min(pred_values) < 0:\n",
    "        print(\"Input Warning: the minimum reference value {} or the minimum prediction value {} is less than 0 mg/dl.\".format(min(ref_values),  min(pred_values)))\n",
    "\n",
    "    #Clear plot\n",
    "    plt.clf()\n",
    "\n",
    "    #Set up plot\n",
    "    plt.scatter(ref_values, pred_values, marker='o', color='black', s=8)\n",
    "    plt.title(title_string + \" Clarke Error Grid\")\n",
    "    plt.xlabel(\"Reference Concentration (mg/dl)\")\n",
    "    plt.ylabel(\"Prediction Concentration (mg/dl)\")\n",
    "    plt.xticks([0, 50, 100, 150, 200, 250, 300, 350, 400])\n",
    "    plt.yticks([0, 50, 100, 150, 200, 250, 300, 350, 400])\n",
    "    plt.gca().set_facecolor('white')\n",
    "\n",
    "    #Set axes lengths\n",
    "    plt.gca().set_xlim([0, 400])\n",
    "    plt.gca().set_ylim([0, 400])\n",
    "    plt.gca().set_aspect((400)/(400))\n",
    "\n",
    "    #Plot zone lines\n",
    "    plt.plot([0,400], [0,400], ':', c='black')                      #Theoretical 45 regression line\n",
    "    plt.plot([0, 175/3], [70, 70], '-', c='black')\n",
    "    #plt.plot([175/3, 320], [70, 400], '-', c='black')\n",
    "    plt.plot([175/3, 400/1.2], [70, 400], '-', c='black')           #Replace 320 with 400/1.2 because 100*(400 - 400/1.2)/(400/1.2) =  20% error\n",
    "    plt.plot([70, 70], [84, 400],'-', c='black')\n",
    "    plt.plot([0, 70], [180, 180], '-', c='black')\n",
    "    plt.plot([70, 290],[180, 400],'-', c='black')\n",
    "    # plt.plot([70, 70], [0, 175/3], '-', c='black')\n",
    "    plt.plot([70, 70], [0, 56], '-', c='black')                     #Replace 175.3 with 56 because 100*abs(56-70)/70) = 20% error\n",
    "    # plt.plot([70, 400],[175/3, 320],'-', c='black')\n",
    "    plt.plot([70, 400], [56, 320],'-', c='black')\n",
    "    plt.plot([180, 180], [0, 70], '-', c='black')\n",
    "    plt.plot([180, 400], [70, 70], '-', c='black')\n",
    "    plt.plot([240, 240], [70, 180],'-', c='black')\n",
    "    plt.plot([240, 400], [180, 180], '-', c='black')\n",
    "    plt.plot([130, 180], [0, 70], '-', c='black')\n",
    "\n",
    "    #Add zone titles\n",
    "    plt.text(30, 15, \"A\", fontsize=15)\n",
    "    plt.text(370, 260, \"B\", fontsize=15)\n",
    "    plt.text(280, 370, \"B\", fontsize=15)\n",
    "    plt.text(160, 370, \"C\", fontsize=15)\n",
    "    plt.text(160, 15, \"C\", fontsize=15)\n",
    "    plt.text(30, 140, \"D\", fontsize=15)\n",
    "    plt.text(370, 120, \"D\", fontsize=15)\n",
    "    plt.text(30, 370, \"E\", fontsize=15)\n",
    "    plt.text(370, 15, \"E\", fontsize=15)\n",
    "\n",
    "    #Statistics from the data\n",
    "    zone = [0] * 5\n",
    "    for i in range(len(ref_values)):\n",
    "        if (ref_values[i] <= 70 and pred_values[i] <= 70) or (pred_values[i] <= 1.2*ref_values[i] and pred_values[i] >= 0.8*ref_values[i]):\n",
    "            zone[0] += 1    #Zone A\n",
    "\n",
    "        elif (ref_values[i] >= 180 and pred_values[i] <= 70) or (ref_values[i] <= 70 and pred_values[i] >= 180):\n",
    "            zone[4] += 1    #Zone E\n",
    "\n",
    "        elif ((ref_values[i] >= 70 and ref_values[i] <= 290) and pred_values[i] >= ref_values[i] + 110) or ((ref_values[i] >= 130 and ref_values[i] <= 180) and (pred_values[i] <= (7/5)*ref_values[i] - 182)):\n",
    "            zone[2] += 1    #Zone C\n",
    "        elif (ref_values[i] >= 240 and (pred_values[i] >= 70 and pred_values[i] <= 180)) or (ref_values[i] <= 175/3 and pred_values[i] <= 180 and pred_values[i] >= 70) or ((ref_values[i] >= 175/3 and ref_values[i] <= 70) and pred_values[i] >= (6/5)*ref_values[i]):\n",
    "            zone[3] += 1    #Zone D\n",
    "        else:\n",
    "            zone[1] += 1    #Zone B\n",
    "\n",
    "    return plt, zone\n",
    "\n",
    "\n",
    "def evaluate_clarke_error(predictions, actuals, scaler=None, model_name=\"model\", save_file=None):\n",
    "    all_predicted = []\n",
    "    all_actual = []\n",
    "\n",
    "    for pred_series, actual_series in zip(predictions, actuals):\n",
    "        # actual_matched = actual_series[:len(pred_series)]\n",
    "        actual_matched = actual_series.slice_intersect(pred_series)\n",
    "\n",
    "        if scaler is not None:\n",
    "            pred_unscaled = scaler.inverse_transform(pred_series)\n",
    "            actual_unscaled = scaler.inverse_transform(actual_matched)\n",
    "        \n",
    "            all_predicted.extend(pred_unscaled.values().flatten())\n",
    "            all_actual.extend(actual_unscaled.values().flatten())\n",
    "        else:\n",
    "            all_predicted.extend(pred_series.values().flatten())\n",
    "            all_actual.extend(actual_series.values().flatten())\n",
    "\n",
    "    all_actual = np.array(all_actual)\n",
    "    all_predicted = np.array(all_predicted)\n",
    "\n",
    "    # clarke_zones = zone_accuracy(all_actual, all_predicted, mode='clarke')\n",
    "    # zone_names = ['A', 'B', 'C', 'D', 'E']\n",
    "\n",
    "    print(f\"\\nClarke Error Grid for {model_name}:\")\n",
    "    plt, clarke_zones = clarke_error_grid(all_actual, all_predicted, model_name)\n",
    "    sum_zones = sum(clarke_zones)\n",
    "    for i, zone in enumerate(zone_names):\n",
    "        result_str = f\"Zone {zone}: {(clarke_zones[i] / sum_zones )*100:.2f}%\"\n",
    "        print(result_str)\n",
    "        if save_file:\n",
    "            save_file.write(result_str + \"\\n\")\n",
    "    \n",
    "    return plt, clarke_zones\n"
   ]
  },
  {
   "cell_type": "markdown",
   "id": "3743d750-4dfd-4f83-89db-67365a0e4e9a",
   "metadata": {},
   "source": [
    "# Cross validation all data"
   ]
  },
  {
   "cell_type": "code",
   "execution_count": 6,
   "id": "8682f229-6942-430a-bf86-f27388febdd9",
   "metadata": {},
   "outputs": [],
   "source": [
    "def read_data(folder_path: str) -> tuple:\n",
    "    csv_files = glob.glob(os.path.join(folder_path, '*.csv'))\n",
    "    series = []\n",
    "    patient_ids = []\n",
    "    count = 0\n",
    "    \n",
    "    excluded_patients = [\"child#001\", \"adult#001\", \"adolescent#001\"]\n",
    "    \n",
    "    for csv in csv_files:\n",
    "        patient_id = os.path.basename(csv).split('.')[0]\n",
    "        \n",
    "        if any(excluded in patient_id for excluded in excluded_patients):\n",
    "            print(f\"Excluding {patient_id}\")\n",
    "            continue\n",
    "        \n",
    "        data = pd.read_csv(csv)\n",
    "        data[\"Time\"] = pd.to_datetime(data[\"Time\"])\n",
    "        data[\"time_idx\"] = (data[\"Time\"].astype(int) // 10**9) // 300\n",
    "        data[\"time_idx\"] -= data[\"time_idx\"].min()\n",
    "        data[\"hour\"] = data[\"Time\"].dt.hour\n",
    "        data = data.drop(columns=[\"Time\"])\n",
    "        print(csv)\n",
    "        print(count)\n",
    "        count += 1\n",
    "        series.append(TimeSeries.from_dataframe(data, time_col=\"time_idx\"))\n",
    "        patient_ids.append(patient_id)\n",
    "        \n",
    "    return series, patient_ids\n",
    "\n",
    "def create_future_covariates(ts: TimeSeries):\n",
    "    basal_insulin = ts['basal_insulin']\n",
    "    hour = ts['hour']\n",
    "    covariates = basal_insulin.stack(hour)\n",
    "    return covariates\n",
    "\n",
    "def create_past_covariates(ts: TimeSeries):\n",
    "    bolus_insulin = ts[\"bolus_insulin\"]\n",
    "    cho = ts[\"CHO\"]\n",
    "    covariates = bolus_insulin.stack(cho)\n",
    "    return covariates\n",
    "    "
   ]
  },
  {
   "cell_type": "code",
   "execution_count": 7,
   "id": "bd343061-6c08-4867-8050-88ca38da1fe0",
   "metadata": {
    "scrolled": true
   },
   "outputs": [
    {
     "name": "stdout",
     "output_type": "stream",
     "text": [
      "results/2025-03-29_17-22-25/processed/child#004.csv\n",
      "0\n",
      "results/2025-03-29_17-22-25/processed/child#010.csv\n",
      "1\n",
      "results/2025-03-29_17-22-25/processed/adolescent#009.csv\n",
      "2\n",
      "results/2025-03-29_17-22-25/processed/adult#008.csv\n",
      "3\n",
      "results/2025-03-29_17-22-25/processed/child#005.csv\n",
      "4\n",
      "results/2025-03-29_17-22-25/processed/adult#002.csv\n",
      "5\n",
      "results/2025-03-29_17-22-25/processed/adolescent#004.csv\n",
      "6\n",
      "results/2025-03-29_17-22-25/processed/adolescent#006.csv\n",
      "7\n",
      "results/2025-03-29_17-22-25/processed/adult#009.csv\n",
      "8\n",
      "results/2025-03-29_17-22-25/processed/adult#007.csv\n",
      "9\n",
      "results/2025-03-29_17-22-25/processed/adolescent#003.csv\n",
      "10\n",
      "Excluding adult#001\n",
      "Excluding adolescent#001\n",
      "results/2025-03-29_17-22-25/processed/adolescent#010.csv\n",
      "11\n",
      "results/2025-03-29_17-22-25/processed/adult#006.csv\n",
      "12\n",
      "results/2025-03-29_17-22-25/processed/adult#005.csv\n",
      "13\n",
      "results/2025-03-29_17-22-25/processed/adult#010.csv\n",
      "14\n",
      "results/2025-03-29_17-22-25/processed/adolescent#005.csv\n",
      "15\n",
      "results/2025-03-29_17-22-25/processed/adolescent#007.csv\n",
      "16\n",
      "results/2025-03-29_17-22-25/processed/child#009.csv\n",
      "17\n",
      "results/2025-03-29_17-22-25/processed/child#002.csv\n",
      "18\n",
      "Excluding child#001\n",
      "results/2025-03-29_17-22-25/processed/child#007.csv\n",
      "19\n",
      "results/2025-03-29_17-22-25/processed/adolescent#002.csv\n",
      "20\n",
      "results/2025-03-29_17-22-25/processed/adult#003.csv\n",
      "21\n",
      "results/2025-03-29_17-22-25/processed/adult#004.csv\n",
      "22\n",
      "results/2025-03-29_17-22-25/processed/child#006.csv\n",
      "23\n",
      "results/2025-03-29_17-22-25/processed/adolescent#008.csv\n",
      "24\n"
     ]
    }
   ],
   "source": [
    "folder_path = \"results/2025-03-29_17-22-25/processed/\"\n",
    "\n",
    "series, patient_ids = read_data(folder_path)\n",
    "cgm_series = [ts[\"CGM\"] for ts in series]\n",
    "future_covariates = [create_future_covariates(ts).astype(np.float32) for ts in series]\n",
    "past_covariates = [create_past_covariates(ts).astype(np.float32) for ts in series]"
   ]
  },
  {
   "cell_type": "code",
   "execution_count": 8,
   "id": "2c48872b-7685-426f-8181-5d22c8209355",
   "metadata": {},
   "outputs": [],
   "source": [
    "def blocked_cv_splits(ts: TimeSeries, past_cov: TimeSeries, k: int = 10):\n",
    "    n = len(ts)\n",
    "    block = n // k\n",
    "    splits = []\n",
    "    for i in range(1, k):\n",
    "        end_train = i * block\n",
    "        start_val = end_train\n",
    "        end_val = (i + 1) * block\n",
    "        splits.append({\n",
    "            \"train_ts\": ts[:end_train],\n",
    "            \"val_ts\": ts[start_val:end_val],\n",
    "            \"train_past\": past_cov[:end_train],\n",
    "            \"val_past\": past_cov[start_val:end_val],\n",
    "        })\n",
    "    return splits\n"
   ]
  },
  {
   "cell_type": "code",
   "execution_count": 9,
   "id": "3e3c32d7-a883-423a-af48-bf5cf6d77424",
   "metadata": {},
   "outputs": [],
   "source": [
    "all_splits = []\n",
    "HORIZON = 12\n",
    "\n",
    "\n",
    "target_scaler = Scaler(global_fit=True)\n",
    "target_scaler.fit(cgm_series)\n",
    "\n",
    "scaled_cgm_series = target_scaler.transform(cgm_series)\n",
    "\n",
    "all_splits = [\n",
    "    blocked_cv_splits(ts=scaled_cgm_series[i], past_cov=past_covariates[i], k=10)\n",
    "    for i in range(len(scaled_cgm_series))\n",
    "]\n",
    "\n",
    "\n",
    "def scale_covariates(covariates: list):\n",
    "    scaler = Scaler(StandardScaler())\n",
    "    scaler.fit(covariates)\n",
    "    return scaler.transform(covariates)"
   ]
  },
  {
   "cell_type": "code",
   "execution_count": 10,
   "id": "d3b592aa-2e06-490e-ab55-64b77783063a",
   "metadata": {},
   "outputs": [
    {
     "data": {
      "text/html": [
       "<div><svg style=\"position: absolute; width: 0; height: 0; overflow: hidden\">\n",
       "<defs>\n",
       "<symbol id=\"icon-database\" viewBox=\"0 0 32 32\">\n",
       "<path d=\"M16 0c-8.837 0-16 2.239-16 5v4c0 2.761 7.163 5 16 5s16-2.239 16-5v-4c0-2.761-7.163-5-16-5z\"></path>\n",
       "<path d=\"M16 17c-8.837 0-16-2.239-16-5v6c0 2.761 7.163 5 16 5s16-2.239 16-5v-6c0 2.761-7.163 5-16 5z\"></path>\n",
       "<path d=\"M16 26c-8.837 0-16-2.239-16-5v6c0 2.761 7.163 5 16 5s16-2.239 16-5v-6c0 2.761-7.163 5-16 5z\"></path>\n",
       "</symbol>\n",
       "<symbol id=\"icon-file-text2\" viewBox=\"0 0 32 32\">\n",
       "<path d=\"M28.681 7.159c-0.694-0.947-1.662-2.053-2.724-3.116s-2.169-2.030-3.116-2.724c-1.612-1.182-2.393-1.319-2.841-1.319h-15.5c-1.378 0-2.5 1.121-2.5 2.5v27c0 1.378 1.122 2.5 2.5 2.5h23c1.378 0 2.5-1.122 2.5-2.5v-19.5c0-0.448-0.137-1.23-1.319-2.841zM24.543 5.457c0.959 0.959 1.712 1.825 2.268 2.543h-4.811v-4.811c0.718 0.556 1.584 1.309 2.543 2.268zM28 29.5c0 0.271-0.229 0.5-0.5 0.5h-23c-0.271 0-0.5-0.229-0.5-0.5v-27c0-0.271 0.229-0.5 0.5-0.5 0 0 15.499-0 15.5 0v7c0 0.552 0.448 1 1 1h7v19.5z\"></path>\n",
       "<path d=\"M23 26h-14c-0.552 0-1-0.448-1-1s0.448-1 1-1h14c0.552 0 1 0.448 1 1s-0.448 1-1 1z\"></path>\n",
       "<path d=\"M23 22h-14c-0.552 0-1-0.448-1-1s0.448-1 1-1h14c0.552 0 1 0.448 1 1s-0.448 1-1 1z\"></path>\n",
       "<path d=\"M23 18h-14c-0.552 0-1-0.448-1-1s0.448-1 1-1h14c0.552 0 1 0.448 1 1s-0.448 1-1 1z\"></path>\n",
       "</symbol>\n",
       "</defs>\n",
       "</svg>\n",
       "<style>/* CSS stylesheet for displaying xarray objects in jupyterlab.\n",
       " *\n",
       " */\n",
       "\n",
       ":root {\n",
       "  --xr-font-color0: var(--jp-content-font-color0, rgba(0, 0, 0, 1));\n",
       "  --xr-font-color2: var(--jp-content-font-color2, rgba(0, 0, 0, 0.54));\n",
       "  --xr-font-color3: var(--jp-content-font-color3, rgba(0, 0, 0, 0.38));\n",
       "  --xr-border-color: var(--jp-border-color2, #e0e0e0);\n",
       "  --xr-disabled-color: var(--jp-layout-color3, #bdbdbd);\n",
       "  --xr-background-color: var(--jp-layout-color0, white);\n",
       "  --xr-background-color-row-even: var(--jp-layout-color1, white);\n",
       "  --xr-background-color-row-odd: var(--jp-layout-color2, #eeeeee);\n",
       "}\n",
       "\n",
       "html[theme=\"dark\"],\n",
       "html[data-theme=\"dark\"],\n",
       "body[data-theme=\"dark\"],\n",
       "body.vscode-dark {\n",
       "  --xr-font-color0: rgba(255, 255, 255, 1);\n",
       "  --xr-font-color2: rgba(255, 255, 255, 0.54);\n",
       "  --xr-font-color3: rgba(255, 255, 255, 0.38);\n",
       "  --xr-border-color: #1f1f1f;\n",
       "  --xr-disabled-color: #515151;\n",
       "  --xr-background-color: #111111;\n",
       "  --xr-background-color-row-even: #111111;\n",
       "  --xr-background-color-row-odd: #313131;\n",
       "}\n",
       "\n",
       ".xr-wrap {\n",
       "  display: block !important;\n",
       "  min-width: 300px;\n",
       "  max-width: 700px;\n",
       "}\n",
       "\n",
       ".xr-text-repr-fallback {\n",
       "  /* fallback to plain text repr when CSS is not injected (untrusted notebook) */\n",
       "  display: none;\n",
       "}\n",
       "\n",
       ".xr-header {\n",
       "  padding-top: 6px;\n",
       "  padding-bottom: 6px;\n",
       "  margin-bottom: 4px;\n",
       "  border-bottom: solid 1px var(--xr-border-color);\n",
       "}\n",
       "\n",
       ".xr-header > div,\n",
       ".xr-header > ul {\n",
       "  display: inline;\n",
       "  margin-top: 0;\n",
       "  margin-bottom: 0;\n",
       "}\n",
       "\n",
       ".xr-obj-type,\n",
       ".xr-array-name {\n",
       "  margin-left: 2px;\n",
       "  margin-right: 10px;\n",
       "}\n",
       "\n",
       ".xr-obj-type {\n",
       "  color: var(--xr-font-color2);\n",
       "}\n",
       "\n",
       ".xr-sections {\n",
       "  padding-left: 0 !important;\n",
       "  display: grid;\n",
       "  grid-template-columns: 150px auto auto 1fr 0 20px 0 20px;\n",
       "}\n",
       "\n",
       ".xr-section-item {\n",
       "  display: contents;\n",
       "}\n",
       "\n",
       ".xr-section-item input {\n",
       "  display: inline-block;\n",
       "  opacity: 0;\n",
       "  height: 0;\n",
       "}\n",
       "\n",
       ".xr-section-item input + label {\n",
       "  color: var(--xr-disabled-color);\n",
       "}\n",
       "\n",
       ".xr-section-item input:enabled + label {\n",
       "  cursor: pointer;\n",
       "  color: var(--xr-font-color2);\n",
       "}\n",
       "\n",
       ".xr-section-item input:focus + label {\n",
       "  border: 2px solid var(--xr-font-color0);\n",
       "}\n",
       "\n",
       ".xr-section-item input:enabled + label:hover {\n",
       "  color: var(--xr-font-color0);\n",
       "}\n",
       "\n",
       ".xr-section-summary {\n",
       "  grid-column: 1;\n",
       "  color: var(--xr-font-color2);\n",
       "  font-weight: 500;\n",
       "}\n",
       "\n",
       ".xr-section-summary > span {\n",
       "  display: inline-block;\n",
       "  padding-left: 0.5em;\n",
       "}\n",
       "\n",
       ".xr-section-summary-in:disabled + label {\n",
       "  color: var(--xr-font-color2);\n",
       "}\n",
       "\n",
       ".xr-section-summary-in + label:before {\n",
       "  display: inline-block;\n",
       "  content: \"►\";\n",
       "  font-size: 11px;\n",
       "  width: 15px;\n",
       "  text-align: center;\n",
       "}\n",
       "\n",
       ".xr-section-summary-in:disabled + label:before {\n",
       "  color: var(--xr-disabled-color);\n",
       "}\n",
       "\n",
       ".xr-section-summary-in:checked + label:before {\n",
       "  content: \"▼\";\n",
       "}\n",
       "\n",
       ".xr-section-summary-in:checked + label > span {\n",
       "  display: none;\n",
       "}\n",
       "\n",
       ".xr-section-summary,\n",
       ".xr-section-inline-details {\n",
       "  padding-top: 4px;\n",
       "  padding-bottom: 4px;\n",
       "}\n",
       "\n",
       ".xr-section-inline-details {\n",
       "  grid-column: 2 / -1;\n",
       "}\n",
       "\n",
       ".xr-section-details {\n",
       "  display: none;\n",
       "  grid-column: 1 / -1;\n",
       "  margin-bottom: 5px;\n",
       "}\n",
       "\n",
       ".xr-section-summary-in:checked ~ .xr-section-details {\n",
       "  display: contents;\n",
       "}\n",
       "\n",
       ".xr-array-wrap {\n",
       "  grid-column: 1 / -1;\n",
       "  display: grid;\n",
       "  grid-template-columns: 20px auto;\n",
       "}\n",
       "\n",
       ".xr-array-wrap > label {\n",
       "  grid-column: 1;\n",
       "  vertical-align: top;\n",
       "}\n",
       "\n",
       ".xr-preview {\n",
       "  color: var(--xr-font-color3);\n",
       "}\n",
       "\n",
       ".xr-array-preview,\n",
       ".xr-array-data {\n",
       "  padding: 0 5px !important;\n",
       "  grid-column: 2;\n",
       "}\n",
       "\n",
       ".xr-array-data,\n",
       ".xr-array-in:checked ~ .xr-array-preview {\n",
       "  display: none;\n",
       "}\n",
       "\n",
       ".xr-array-in:checked ~ .xr-array-data,\n",
       ".xr-array-preview {\n",
       "  display: inline-block;\n",
       "}\n",
       "\n",
       ".xr-dim-list {\n",
       "  display: inline-block !important;\n",
       "  list-style: none;\n",
       "  padding: 0 !important;\n",
       "  margin: 0;\n",
       "}\n",
       "\n",
       ".xr-dim-list li {\n",
       "  display: inline-block;\n",
       "  padding: 0;\n",
       "  margin: 0;\n",
       "}\n",
       "\n",
       ".xr-dim-list:before {\n",
       "  content: \"(\";\n",
       "}\n",
       "\n",
       ".xr-dim-list:after {\n",
       "  content: \")\";\n",
       "}\n",
       "\n",
       ".xr-dim-list li:not(:last-child):after {\n",
       "  content: \",\";\n",
       "  padding-right: 5px;\n",
       "}\n",
       "\n",
       ".xr-has-index {\n",
       "  font-weight: bold;\n",
       "}\n",
       "\n",
       ".xr-var-list,\n",
       ".xr-var-item {\n",
       "  display: contents;\n",
       "}\n",
       "\n",
       ".xr-var-item > div,\n",
       ".xr-var-item label,\n",
       ".xr-var-item > .xr-var-name span {\n",
       "  background-color: var(--xr-background-color-row-even);\n",
       "  margin-bottom: 0;\n",
       "}\n",
       "\n",
       ".xr-var-item > .xr-var-name:hover span {\n",
       "  padding-right: 5px;\n",
       "}\n",
       "\n",
       ".xr-var-list > li:nth-child(odd) > div,\n",
       ".xr-var-list > li:nth-child(odd) > label,\n",
       ".xr-var-list > li:nth-child(odd) > .xr-var-name span {\n",
       "  background-color: var(--xr-background-color-row-odd);\n",
       "}\n",
       "\n",
       ".xr-var-name {\n",
       "  grid-column: 1;\n",
       "}\n",
       "\n",
       ".xr-var-dims {\n",
       "  grid-column: 2;\n",
       "}\n",
       "\n",
       ".xr-var-dtype {\n",
       "  grid-column: 3;\n",
       "  text-align: right;\n",
       "  color: var(--xr-font-color2);\n",
       "}\n",
       "\n",
       ".xr-var-preview {\n",
       "  grid-column: 4;\n",
       "}\n",
       "\n",
       ".xr-index-preview {\n",
       "  grid-column: 2 / 5;\n",
       "  color: var(--xr-font-color2);\n",
       "}\n",
       "\n",
       ".xr-var-name,\n",
       ".xr-var-dims,\n",
       ".xr-var-dtype,\n",
       ".xr-preview,\n",
       ".xr-attrs dt {\n",
       "  white-space: nowrap;\n",
       "  overflow: hidden;\n",
       "  text-overflow: ellipsis;\n",
       "  padding-right: 10px;\n",
       "}\n",
       "\n",
       ".xr-var-name:hover,\n",
       ".xr-var-dims:hover,\n",
       ".xr-var-dtype:hover,\n",
       ".xr-attrs dt:hover {\n",
       "  overflow: visible;\n",
       "  width: auto;\n",
       "  z-index: 1;\n",
       "}\n",
       "\n",
       ".xr-var-attrs,\n",
       ".xr-var-data,\n",
       ".xr-index-data {\n",
       "  display: none;\n",
       "  background-color: var(--xr-background-color) !important;\n",
       "  padding-bottom: 5px !important;\n",
       "}\n",
       "\n",
       ".xr-var-attrs-in:checked ~ .xr-var-attrs,\n",
       ".xr-var-data-in:checked ~ .xr-var-data,\n",
       ".xr-index-data-in:checked ~ .xr-index-data {\n",
       "  display: block;\n",
       "}\n",
       "\n",
       ".xr-var-data > table {\n",
       "  float: right;\n",
       "}\n",
       "\n",
       ".xr-var-name span,\n",
       ".xr-var-data,\n",
       ".xr-index-name div,\n",
       ".xr-index-data,\n",
       ".xr-attrs {\n",
       "  padding-left: 25px !important;\n",
       "}\n",
       "\n",
       ".xr-attrs,\n",
       ".xr-var-attrs,\n",
       ".xr-var-data,\n",
       ".xr-index-data {\n",
       "  grid-column: 1 / -1;\n",
       "}\n",
       "\n",
       "dl.xr-attrs {\n",
       "  padding: 0;\n",
       "  margin: 0;\n",
       "  display: grid;\n",
       "  grid-template-columns: 125px auto;\n",
       "}\n",
       "\n",
       ".xr-attrs dt,\n",
       ".xr-attrs dd {\n",
       "  padding: 0;\n",
       "  margin: 0;\n",
       "  float: left;\n",
       "  padding-right: 10px;\n",
       "  width: auto;\n",
       "}\n",
       "\n",
       ".xr-attrs dt {\n",
       "  font-weight: normal;\n",
       "  grid-column: 1;\n",
       "}\n",
       "\n",
       ".xr-attrs dt:hover span {\n",
       "  display: inline-block;\n",
       "  background: var(--xr-background-color);\n",
       "  padding-right: 10px;\n",
       "}\n",
       "\n",
       ".xr-attrs dd {\n",
       "  grid-column: 2;\n",
       "  white-space: pre-wrap;\n",
       "  word-break: break-all;\n",
       "}\n",
       "\n",
       ".xr-icon-database,\n",
       ".xr-icon-file-text2,\n",
       ".xr-no-icon {\n",
       "  display: inline-block;\n",
       "  vertical-align: middle;\n",
       "  width: 1em;\n",
       "  height: 1.5em !important;\n",
       "  stroke-width: 0;\n",
       "  stroke: currentColor;\n",
       "  fill: currentColor;\n",
       "}\n",
       "</style><pre class='xr-text-repr-fallback'>&lt;TimeSeries (DataArray) (time_idx: 2592, component: 1, sample: 1)&gt; Size: 21kB\n",
       "array([[[0.31272375]],\n",
       "\n",
       "       [[0.30885358]],\n",
       "\n",
       "       [[0.30677687]],\n",
       "\n",
       "       ...,\n",
       "\n",
       "       [[0.12476637]],\n",
       "\n",
       "       [[0.10745033]],\n",
       "\n",
       "       [[0.09111496]]])\n",
       "Coordinates:\n",
       "  * time_idx   (time_idx) int64 21kB 0 1 2 3 4 5 ... 2587 2588 2589 2590 2591\n",
       "  * component  (component) &lt;U13 52B &#x27;CGM&#x27;\n",
       "Dimensions without coordinates: sample\n",
       "Attributes:\n",
       "    static_covariates:  None\n",
       "    hierarchy:          None\n",
       "    metadata:           None</pre><div class='xr-wrap' style='display:none'><div class='xr-header'><div class='xr-obj-type'>TimeSeries (DataArray)</div><div class='xr-array-name'></div><ul class='xr-dim-list'><li><span class='xr-has-index'>time_idx</span>: 2592</li><li><span class='xr-has-index'>component</span>: 1</li><li><span>sample</span>: 1</li></ul></div><ul class='xr-sections'><li class='xr-section-item'><div class='xr-array-wrap'><input id='section-7876408a-551d-44a3-b085-87f106682b5a' class='xr-array-in' type='checkbox' checked><label for='section-7876408a-551d-44a3-b085-87f106682b5a' title='Show/hide data repr'><svg class='icon xr-icon-database'><use xlink:href='#icon-database'></use></svg></label><div class='xr-array-preview xr-preview'><span>0.3127 0.3089 0.3068 0.3074 0.3125 ... 0.1345 0.1248 0.1075 0.09111</span></div><div class='xr-array-data'><pre>array([[[0.31272375]],\n",
       "\n",
       "       [[0.30885358]],\n",
       "\n",
       "       [[0.30677687]],\n",
       "\n",
       "       ...,\n",
       "\n",
       "       [[0.12476637]],\n",
       "\n",
       "       [[0.10745033]],\n",
       "\n",
       "       [[0.09111496]]])</pre></div></div></li><li class='xr-section-item'><input id='section-055c99f4-9237-41f2-8840-32f11cfdb548' class='xr-section-summary-in' type='checkbox'  checked><label for='section-055c99f4-9237-41f2-8840-32f11cfdb548' class='xr-section-summary' >Coordinates: <span>(2)</span></label><div class='xr-section-inline-details'></div><div class='xr-section-details'><ul class='xr-var-list'><li class='xr-var-item'><div class='xr-var-name'><span class='xr-has-index'>time_idx</span></div><div class='xr-var-dims'>(time_idx)</div><div class='xr-var-dtype'>int64</div><div class='xr-var-preview xr-preview'>0 1 2 3 4 ... 2588 2589 2590 2591</div><input id='attrs-c6e28c76-1680-4ea2-8744-5a7c43287abb' class='xr-var-attrs-in' type='checkbox' disabled><label for='attrs-c6e28c76-1680-4ea2-8744-5a7c43287abb' title='Show/Hide attributes'><svg class='icon xr-icon-file-text2'><use xlink:href='#icon-file-text2'></use></svg></label><input id='data-a4137134-7539-49c1-8ea8-bc78bc3d318e' class='xr-var-data-in' type='checkbox'><label for='data-a4137134-7539-49c1-8ea8-bc78bc3d318e' title='Show/Hide data repr'><svg class='icon xr-icon-database'><use xlink:href='#icon-database'></use></svg></label><div class='xr-var-attrs'><dl class='xr-attrs'></dl></div><div class='xr-var-data'><pre>array([   0,    1,    2, ..., 2589, 2590, 2591])</pre></div></li><li class='xr-var-item'><div class='xr-var-name'><span class='xr-has-index'>component</span></div><div class='xr-var-dims'>(component)</div><div class='xr-var-dtype'>&lt;U13</div><div class='xr-var-preview xr-preview'>&#x27;CGM&#x27;</div><input id='attrs-c04581eb-0565-4a17-a1fe-45be722021fc' class='xr-var-attrs-in' type='checkbox' disabled><label for='attrs-c04581eb-0565-4a17-a1fe-45be722021fc' title='Show/Hide attributes'><svg class='icon xr-icon-file-text2'><use xlink:href='#icon-file-text2'></use></svg></label><input id='data-113bc50e-0946-454d-a763-f753aed3cc90' class='xr-var-data-in' type='checkbox'><label for='data-113bc50e-0946-454d-a763-f753aed3cc90' title='Show/Hide data repr'><svg class='icon xr-icon-database'><use xlink:href='#icon-database'></use></svg></label><div class='xr-var-attrs'><dl class='xr-attrs'></dl></div><div class='xr-var-data'><pre>array([&#x27;CGM&#x27;], dtype=&#x27;&lt;U13&#x27;)</pre></div></li></ul></div></li><li class='xr-section-item'><input id='section-6c5087e8-7aba-4ca6-a377-08bba1b801ec' class='xr-section-summary-in' type='checkbox'  ><label for='section-6c5087e8-7aba-4ca6-a377-08bba1b801ec' class='xr-section-summary' >Indexes: <span>(2)</span></label><div class='xr-section-inline-details'></div><div class='xr-section-details'><ul class='xr-var-list'><li class='xr-var-item'><div class='xr-index-name'><div>time_idx</div></div><div class='xr-index-preview'>PandasIndex</div><input type='checkbox' disabled/><label></label><input id='index-2769c384-3426-4a39-8fd4-42b1662e4ac3' class='xr-index-data-in' type='checkbox'/><label for='index-2769c384-3426-4a39-8fd4-42b1662e4ac3' title='Show/Hide index repr'><svg class='icon xr-icon-database'><use xlink:href='#icon-database'></use></svg></label><div class='xr-index-data'><pre>PandasIndex(RangeIndex(start=0, stop=2592, step=1, name=&#x27;time_idx&#x27;))</pre></div></li><li class='xr-var-item'><div class='xr-index-name'><div>component</div></div><div class='xr-index-preview'>PandasIndex</div><input type='checkbox' disabled/><label></label><input id='index-213ccc25-1690-416d-b3e0-b1fe38de0f2f' class='xr-index-data-in' type='checkbox'/><label for='index-213ccc25-1690-416d-b3e0-b1fe38de0f2f' title='Show/Hide index repr'><svg class='icon xr-icon-database'><use xlink:href='#icon-database'></use></svg></label><div class='xr-index-data'><pre>PandasIndex(Index([&#x27;CGM&#x27;], dtype=&#x27;object&#x27;, name=&#x27;component&#x27;))</pre></div></li></ul></div></li><li class='xr-section-item'><input id='section-9e81d667-49e8-4a00-937b-98c79f9bf04c' class='xr-section-summary-in' type='checkbox'  checked><label for='section-9e81d667-49e8-4a00-937b-98c79f9bf04c' class='xr-section-summary' >Attributes: <span>(3)</span></label><div class='xr-section-inline-details'></div><div class='xr-section-details'><dl class='xr-attrs'><dt><span>static_covariates :</span></dt><dd>None</dd><dt><span>hierarchy :</span></dt><dd>None</dd><dt><span>metadata :</span></dt><dd>None</dd></dl></div></li></ul></div></div>"
      ],
      "text/plain": [
       "<TimeSeries (DataArray) (time_idx: 2592, component: 1, sample: 1)> Size: 21kB\n",
       "array([[[0.31272375]],\n",
       "\n",
       "       [[0.30885358]],\n",
       "\n",
       "       [[0.30677687]],\n",
       "\n",
       "       ...,\n",
       "\n",
       "       [[0.12476637]],\n",
       "\n",
       "       [[0.10745033]],\n",
       "\n",
       "       [[0.09111496]]])\n",
       "Coordinates:\n",
       "  * time_idx   (time_idx) int64 21kB 0 1 2 3 4 5 ... 2587 2588 2589 2590 2591\n",
       "  * component  (component) <U13 52B 'CGM'\n",
       "Dimensions without coordinates: sample\n",
       "Attributes:\n",
       "    static_covariates:  None\n",
       "    hierarchy:          None\n",
       "    metadata:           None"
      ]
     },
     "execution_count": 10,
     "metadata": {},
     "output_type": "execute_result"
    }
   ],
   "source": [
    "all_splits[0][2][\"train_ts\"]"
   ]
  },
  {
   "cell_type": "code",
   "execution_count": 150,
   "id": "625da779-5c93-4e52-a0d5-2d9bd6c300a3",
   "metadata": {
    "scrolled": true
   },
   "outputs": [
    {
     "data": {
      "application/vnd.jupyter.widget-view+json": {
       "model_id": "c4729b4255d845f5b0d54085d87b0d37",
       "version_major": 2,
       "version_minor": 0
      },
      "text/plain": [
       "Sanity Checking: |                                                                                            …"
      ]
     },
     "metadata": {},
     "output_type": "display_data"
    },
    {
     "data": {
      "application/vnd.jupyter.widget-view+json": {
       "model_id": "e0faa5d06bdd45a1a75a4c418244e504",
       "version_major": 2,
       "version_minor": 0
      },
      "text/plain": [
       "Training: |                                                                                                   …"
      ]
     },
     "metadata": {},
     "output_type": "display_data"
    },
    {
     "data": {
      "application/vnd.jupyter.widget-view+json": {
       "model_id": "3ee0ea190d93437f9d57328c09a430b9",
       "version_major": 2,
       "version_minor": 0
      },
      "text/plain": [
       "Validation: |                                                                                                 …"
      ]
     },
     "metadata": {},
     "output_type": "display_data"
    },
    {
     "data": {
      "application/vnd.jupyter.widget-view+json": {
       "model_id": "c39ce3710b9c411d93a3e980efb714e9",
       "version_major": 2,
       "version_minor": 0
      },
      "text/plain": [
       "Validation: |                                                                                                 …"
      ]
     },
     "metadata": {},
     "output_type": "display_data"
    },
    {
     "data": {
      "application/vnd.jupyter.widget-view+json": {
       "model_id": "3b1ae02904014bef94c93331bd591817",
       "version_major": 2,
       "version_minor": 0
      },
      "text/plain": [
       "Validation: |                                                                                                 …"
      ]
     },
     "metadata": {},
     "output_type": "display_data"
    },
    {
     "data": {
      "application/vnd.jupyter.widget-view+json": {
       "model_id": "eeb7b65c59664c138c9b5a9c523c33f9",
       "version_major": 2,
       "version_minor": 0
      },
      "text/plain": [
       "Validation: |                                                                                                 …"
      ]
     },
     "metadata": {},
     "output_type": "display_data"
    },
    {
     "data": {
      "application/vnd.jupyter.widget-view+json": {
       "model_id": "fad4fc73fe864ecbbb449b64e4ecf4e0",
       "version_major": 2,
       "version_minor": 0
      },
      "text/plain": [
       "Validation: |                                                                                                 …"
      ]
     },
     "metadata": {},
     "output_type": "display_data"
    },
    {
     "data": {
      "application/vnd.jupyter.widget-view+json": {
       "model_id": "7f7cce7ec3a2499cae3f750762045fe0",
       "version_major": 2,
       "version_minor": 0
      },
      "text/plain": [
       "Validation: |                                                                                                 …"
      ]
     },
     "metadata": {},
     "output_type": "display_data"
    },
    {
     "data": {
      "application/vnd.jupyter.widget-view+json": {
       "model_id": "0c24454793504003ad8009d962bb9379",
       "version_major": 2,
       "version_minor": 0
      },
      "text/plain": [
       "Validation: |                                                                                                 …"
      ]
     },
     "metadata": {},
     "output_type": "display_data"
    },
    {
     "data": {
      "application/vnd.jupyter.widget-view+json": {
       "model_id": "fc4e6a5d0de64486916803a128e92ba2",
       "version_major": 2,
       "version_minor": 0
      },
      "text/plain": [
       "Validation: |                                                                                                 …"
      ]
     },
     "metadata": {},
     "output_type": "display_data"
    },
    {
     "data": {
      "application/vnd.jupyter.widget-view+json": {
       "model_id": "149db21dc78c425d8953d1c7a66ae8be",
       "version_major": 2,
       "version_minor": 0
      },
      "text/plain": [
       "Validation: |                                                                                                 …"
      ]
     },
     "metadata": {},
     "output_type": "display_data"
    },
    {
     "data": {
      "application/vnd.jupyter.widget-view+json": {
       "model_id": "9a17d305e134418db0155f16b7d0a3e0",
       "version_major": 2,
       "version_minor": 0
      },
      "text/plain": [
       "Validation: |                                                                                                 …"
      ]
     },
     "metadata": {},
     "output_type": "display_data"
    },
    {
     "data": {
      "application/vnd.jupyter.widget-view+json": {
       "model_id": "296c0eb47e55448eb276b5efa181bb57",
       "version_major": 2,
       "version_minor": 0
      },
      "text/plain": [
       "Predicting: |                                                                                                 …"
      ]
     },
     "metadata": {},
     "output_type": "display_data"
    },
    {
     "data": {
      "application/vnd.jupyter.widget-view+json": {
       "model_id": "a09321860f154c8f849fa6b8d82dc581",
       "version_major": 2,
       "version_minor": 0
      },
      "text/plain": [
       "Predicting: |                                                                                                 …"
      ]
     },
     "metadata": {},
     "output_type": "display_data"
    },
    {
     "data": {
      "application/vnd.jupyter.widget-view+json": {
       "model_id": "7f19eefeb8b24f7d99b70756e907920d",
       "version_major": 2,
       "version_minor": 0
      },
      "text/plain": [
       "Predicting: |                                                                                                 …"
      ]
     },
     "metadata": {},
     "output_type": "display_data"
    },
    {
     "data": {
      "application/vnd.jupyter.widget-view+json": {
       "model_id": "86d744582afb4bf2abb0025b815e8c00",
       "version_major": 2,
       "version_minor": 0
      },
      "text/plain": [
       "Predicting: |                                                                                                 …"
      ]
     },
     "metadata": {},
     "output_type": "display_data"
    },
    {
     "data": {
      "application/vnd.jupyter.widget-view+json": {
       "model_id": "9065daffe61f47dba4046fd1fbb83626",
       "version_major": 2,
       "version_minor": 0
      },
      "text/plain": [
       "Predicting: |                                                                                                 …"
      ]
     },
     "metadata": {},
     "output_type": "display_data"
    },
    {
     "data": {
      "application/vnd.jupyter.widget-view+json": {
       "model_id": "f82d46399be64876b09e4e3d6be3278a",
       "version_major": 2,
       "version_minor": 0
      },
      "text/plain": [
       "Predicting: |                                                                                                 …"
      ]
     },
     "metadata": {},
     "output_type": "display_data"
    },
    {
     "data": {
      "application/vnd.jupyter.widget-view+json": {
       "model_id": "395cefcb7dc94976af63a7e80f497733",
       "version_major": 2,
       "version_minor": 0
      },
      "text/plain": [
       "Predicting: |                                                                                                 …"
      ]
     },
     "metadata": {},
     "output_type": "display_data"
    },
    {
     "data": {
      "application/vnd.jupyter.widget-view+json": {
       "model_id": "053a39bca2d84bb98a11ecb411e06997",
       "version_major": 2,
       "version_minor": 0
      },
      "text/plain": [
       "Predicting: |                                                                                                 …"
      ]
     },
     "metadata": {},
     "output_type": "display_data"
    },
    {
     "data": {
      "application/vnd.jupyter.widget-view+json": {
       "model_id": "777bbe7b1fa54fef80e0ebf4f66a7d34",
       "version_major": 2,
       "version_minor": 0
      },
      "text/plain": [
       "Predicting: |                                                                                                 …"
      ]
     },
     "metadata": {},
     "output_type": "display_data"
    },
    {
     "data": {
      "application/vnd.jupyter.widget-view+json": {
       "model_id": "06a9c428bb8840d691892868243a75cb",
       "version_major": 2,
       "version_minor": 0
      },
      "text/plain": [
       "Predicting: |                                                                                                 …"
      ]
     },
     "metadata": {},
     "output_type": "display_data"
    },
    {
     "data": {
      "application/vnd.jupyter.widget-view+json": {
       "model_id": "a339f6516f5e4359b4be5ec1df198ded",
       "version_major": 2,
       "version_minor": 0
      },
      "text/plain": [
       "Predicting: |                                                                                                 …"
      ]
     },
     "metadata": {},
     "output_type": "display_data"
    },
    {
     "data": {
      "application/vnd.jupyter.widget-view+json": {
       "model_id": "25f43c000ccd416ea1c61c6f5422e065",
       "version_major": 2,
       "version_minor": 0
      },
      "text/plain": [
       "Predicting: |                                                                                                 …"
      ]
     },
     "metadata": {},
     "output_type": "display_data"
    },
    {
     "data": {
      "application/vnd.jupyter.widget-view+json": {
       "model_id": "aa3dbe2093344f69b2cf0367af85c277",
       "version_major": 2,
       "version_minor": 0
      },
      "text/plain": [
       "Predicting: |                                                                                                 …"
      ]
     },
     "metadata": {},
     "output_type": "display_data"
    },
    {
     "data": {
      "application/vnd.jupyter.widget-view+json": {
       "model_id": "daf1b16c89e74711ac877edd20fba0c7",
       "version_major": 2,
       "version_minor": 0
      },
      "text/plain": [
       "Predicting: |                                                                                                 …"
      ]
     },
     "metadata": {},
     "output_type": "display_data"
    },
    {
     "data": {
      "application/vnd.jupyter.widget-view+json": {
       "model_id": "94237fa706924992abd35449bb9e96eb",
       "version_major": 2,
       "version_minor": 0
      },
      "text/plain": [
       "Predicting: |                                                                                                 …"
      ]
     },
     "metadata": {},
     "output_type": "display_data"
    },
    {
     "data": {
      "application/vnd.jupyter.widget-view+json": {
       "model_id": "4641fd35eb244f47ad87d953bdf80c26",
       "version_major": 2,
       "version_minor": 0
      },
      "text/plain": [
       "Predicting: |                                                                                                 …"
      ]
     },
     "metadata": {},
     "output_type": "display_data"
    },
    {
     "data": {
      "application/vnd.jupyter.widget-view+json": {
       "model_id": "d9a730d090704b86bbd39d1170c02372",
       "version_major": 2,
       "version_minor": 0
      },
      "text/plain": [
       "Predicting: |                                                                                                 …"
      ]
     },
     "metadata": {},
     "output_type": "display_data"
    },
    {
     "data": {
      "application/vnd.jupyter.widget-view+json": {
       "model_id": "afe1f95aac9d47c59c7da8c7bba367dd",
       "version_major": 2,
       "version_minor": 0
      },
      "text/plain": [
       "Predicting: |                                                                                                 …"
      ]
     },
     "metadata": {},
     "output_type": "display_data"
    },
    {
     "data": {
      "application/vnd.jupyter.widget-view+json": {
       "model_id": "9fef787c304b496ead5f66cae1003d7e",
       "version_major": 2,
       "version_minor": 0
      },
      "text/plain": [
       "Predicting: |                                                                                                 …"
      ]
     },
     "metadata": {},
     "output_type": "display_data"
    },
    {
     "data": {
      "application/vnd.jupyter.widget-view+json": {
       "model_id": "b87d2944170b423d923ab4ebab4a9749",
       "version_major": 2,
       "version_minor": 0
      },
      "text/plain": [
       "Predicting: |                                                                                                 …"
      ]
     },
     "metadata": {},
     "output_type": "display_data"
    },
    {
     "data": {
      "application/vnd.jupyter.widget-view+json": {
       "model_id": "1499e8dee223475c9a210341b6ad42d2",
       "version_major": 2,
       "version_minor": 0
      },
      "text/plain": [
       "Predicting: |                                                                                                 …"
      ]
     },
     "metadata": {},
     "output_type": "display_data"
    },
    {
     "data": {
      "application/vnd.jupyter.widget-view+json": {
       "model_id": "2ed37c6106af408c9a956f81f743a946",
       "version_major": 2,
       "version_minor": 0
      },
      "text/plain": [
       "Predicting: |                                                                                                 …"
      ]
     },
     "metadata": {},
     "output_type": "display_data"
    },
    {
     "data": {
      "application/vnd.jupyter.widget-view+json": {
       "model_id": "15dbbe724fe44bcca285353decaf0b39",
       "version_major": 2,
       "version_minor": 0
      },
      "text/plain": [
       "Predicting: |                                                                                                 …"
      ]
     },
     "metadata": {},
     "output_type": "display_data"
    },
    {
     "data": {
      "application/vnd.jupyter.widget-view+json": {
       "model_id": "86dec13f8c2242099855f8b33a9ed1da",
       "version_major": 2,
       "version_minor": 0
      },
      "text/plain": [
       "Predicting: |                                                                                                 …"
      ]
     },
     "metadata": {},
     "output_type": "display_data"
    },
    {
     "data": {
      "application/vnd.jupyter.widget-view+json": {
       "model_id": "43f307e7fa0d4c3c97a3725b6f59e371",
       "version_major": 2,
       "version_minor": 0
      },
      "text/plain": [
       "Predicting: |                                                                                                 …"
      ]
     },
     "metadata": {},
     "output_type": "display_data"
    },
    {
     "name": "stdout",
     "output_type": "stream",
     "text": [
      "Fold 4 — MAE: 0.10, RMSE: 0.12\n",
      "\n",
      "Clarke Error Grid for Transformer_Fold4:\n",
      "Zone A: 50.02%\n",
      "Zone B: 39.44%\n",
      "Zone C: 0.86%\n",
      "Zone D: 9.64%\n",
      "Zone E: 0.04%\n",
      "\n",
      "✅ Overall CV MAE: 0.10\n",
      "✅ Overall CV RMSE: 0.12\n"
     ]
    },
    {
     "data": {
      "image/png": "[encoded data removed]",
      "text/plain": [
       "<Figure size 640x480 with 1 Axes>"
      ]
     },
     "metadata": {},
     "output_type": "display_data"
    }
   ],
   "source": [
    "cv_mae = []\n",
    "cv_rmse = []\n",
    "# for fold_idx in range(len(all_splits[0])):\n",
    "for fold_idx in range(3, 4):\n",
    "    # Prepare data for this fold\n",
    "    train_series   = [s[fold_idx]['train_ts'] for s in all_splits]\n",
    "    val_series     = [s[fold_idx]['val_ts']   for s in all_splits]\n",
    "    train_past     = [s[fold_idx]['train_past'] for s in all_splits]\n",
    "    val_past       = [s[fold_idx]['val_past']   for s in all_splits]\n",
    "\n",
    "    # Scale past covariates\n",
    "    past_scaler = Scaler(StandardScaler(), global_fit=False)\n",
    "    past_scaler.fit(train_past)\n",
    "    t_cov = past_scaler.transform(train_past)\n",
    "    v_cov = past_scaler.transform(val_past)\n",
    "\n",
    "    # Train model\n",
    "    model = TransformerModel(\n",
    "        input_chunk_length=72,\n",
    "        output_chunk_length=12,\n",
    "        model_name=f\"Transformer_Fold{fold_idx+1}\",\n",
    "        log_tensorboard=True,\n",
    "        n_epochs=10,\n",
    "        random_state=42\n",
    "    )\n",
    "    \n",
    "    model.fit(\n",
    "        series=train_series,\n",
    "        past_covariates=t_cov,\n",
    "        val_series=val_series,\n",
    "        val_past_covariates=v_cov,\n",
    "        dataloader_kwargs={'num_workers':4},\n",
    "        verbose=True\n",
    "    )\n",
    "\n",
    "    # Forecast & metrics\n",
    "    fold_preds = []\n",
    "    maes = []\n",
    "    rmses = []\n",
    "    for ts_tr, ts_val, cov_tr, cov_val in zip(train_series, val_series, t_cov, v_cov):\n",
    "        cov_all = cov_tr.append(cov_val)\n",
    "        pred = model.predict(n=len(ts_val), series=ts_tr, past_covariates=cov_all)\n",
    "        fold_preds.append(pred)\n",
    "        maes.append(mae(ts_val, pred))\n",
    "        rmses.append(rmse(ts_val, pred))\n",
    "\n",
    "    avg_mae  = sum(maes)/len(maes)\n",
    "    avg_rmse = sum(rmses)/len(rmses)\n",
    "    print(f\"Fold {fold_idx+1} — MAE: {avg_mae:.2f}, RMSE: {avg_rmse:.2f}\")\n",
    "    cv_mae.append(avg_mae)\n",
    "    cv_rmse.append(avg_rmse)\n",
    "\n",
    "    # Clarke Error Grid\n",
    "    evaluate_clarke_error(fold_preds, val_series, target_scaler,\n",
    "                           model_name=f\"Transformer_Fold{fold_idx+1}\")\n",
    "\n",
    "print(f\"\\n✅ Overall CV MAE: {np.mean(cv_mae):.2f}\")\n",
    "print(f\"✅ Overall CV RMSE: {np.mean(cv_rmse):.2f}\")\n"
   ]
  },
  {
   "cell_type": "code",
   "execution_count": 76,
   "id": "042581c6-cfb7-4faa-aa84-3b9a06b6c8e9",
   "metadata": {
    "scrolled": true
   },
   "outputs": [
    {
     "data": {
      "text/plain": [
       "798"
      ]
     },
     "execution_count": 76,
     "metadata": {},
     "output_type": "execute_result"
    }
   ],
   "source": [
    "len(predictions[1:])"
   ]
  },
  {
   "cell_type": "code",
   "execution_count": 116,
   "id": "cf25ba40-aa63-4022-b113-2739ba41a4c8",
   "metadata": {},
   "outputs": [
    {
     "data": {
      "application/vnd.jupyter.widget-view+json": {
       "model_id": "65307743c66946279e57b1c942938b09",
       "version_major": 2,
       "version_minor": 0
      },
      "text/plain": [
       "Sanity Checking: |                                                                                            …"
      ]
     },
     "metadata": {},
     "output_type": "display_data"
    },
    {
     "data": {
      "application/vnd.jupyter.widget-view+json": {
       "model_id": "ea74b10d685b46659891af26b1a2ff81",
       "version_major": 2,
       "version_minor": 0
      },
      "text/plain": [
       "Training: |                                                                                                   …"
      ]
     },
     "metadata": {},
     "output_type": "display_data"
    },
    {
     "data": {
      "application/vnd.jupyter.widget-view+json": {
       "model_id": "555ecbe437244bc0a432c1636212dc78",
       "version_major": 2,
       "version_minor": 0
      },
      "text/plain": [
       "Validation: |                                                                                                 …"
      ]
     },
     "metadata": {},
     "output_type": "display_data"
    },
    {
     "data": {
      "application/vnd.jupyter.widget-view+json": {
       "model_id": "bfd9efc0221f45a0910a7703093149f4",
       "version_major": 2,
       "version_minor": 0
      },
      "text/plain": [
       "Validation: |                                                                                                 …"
      ]
     },
     "metadata": {},
     "output_type": "display_data"
    },
    {
     "data": {
      "application/vnd.jupyter.widget-view+json": {
       "model_id": "16762a1d32c94a3ab8e80d19ef248418",
       "version_major": 2,
       "version_minor": 0
      },
      "text/plain": [
       "Validation: |                                                                                                 …"
      ]
     },
     "metadata": {},
     "output_type": "display_data"
    },
    {
     "data": {
      "application/vnd.jupyter.widget-view+json": {
       "model_id": "271e8cb7b3ca45efb9d93fa20a3f9433",
       "version_major": 2,
       "version_minor": 0
      },
      "text/plain": [
       "Validation: |                                                                                                 …"
      ]
     },
     "metadata": {},
     "output_type": "display_data"
    },
    {
     "data": {
      "application/vnd.jupyter.widget-view+json": {
       "model_id": "c9e8cb3f659a477b86090bbedecda5a4",
       "version_major": 2,
       "version_minor": 0
      },
      "text/plain": [
       "Validation: |                                                                                                 …"
      ]
     },
     "metadata": {},
     "output_type": "display_data"
    },
    {
     "data": {
      "application/vnd.jupyter.widget-view+json": {
       "model_id": "6f317be861e94a50b615ffd2a587dbe3",
       "version_major": 2,
       "version_minor": 0
      },
      "text/plain": [
       "Validation: |                                                                                                 …"
      ]
     },
     "metadata": {},
     "output_type": "display_data"
    },
    {
     "data": {
      "application/vnd.jupyter.widget-view+json": {
       "model_id": "1586ff602ad14e0e95f20d0d22c5d929",
       "version_major": 2,
       "version_minor": 0
      },
      "text/plain": [
       "Validation: |                                                                                                 …"
      ]
     },
     "metadata": {},
     "output_type": "display_data"
    },
    {
     "data": {
      "application/vnd.jupyter.widget-view+json": {
       "model_id": "bec0e0edc1204e83a7e45bc14f60e74f",
       "version_major": 2,
       "version_minor": 0
      },
      "text/plain": [
       "Validation: |                                                                                                 …"
      ]
     },
     "metadata": {},
     "output_type": "display_data"
    },
    {
     "data": {
      "application/vnd.jupyter.widget-view+json": {
       "model_id": "004c602d1e084f308765f602eebca543",
       "version_major": 2,
       "version_minor": 0
      },
      "text/plain": [
       "Validation: |                                                                                                 …"
      ]
     },
     "metadata": {},
     "output_type": "display_data"
    },
    {
     "data": {
      "application/vnd.jupyter.widget-view+json": {
       "model_id": "2842349429a7427793ea8abbb37201b4",
       "version_major": 2,
       "version_minor": 0
      },
      "text/plain": [
       "Validation: |                                                                                                 …"
      ]
     },
     "metadata": {},
     "output_type": "display_data"
    },
    {
     "data": {
      "application/vnd.jupyter.widget-view+json": {
       "model_id": "85c588ff36694bf490f0d72342210b1c",
       "version_major": 2,
       "version_minor": 0
      },
      "text/plain": [
       "Validation: |                                                                                                 …"
      ]
     },
     "metadata": {},
     "output_type": "display_data"
    },
    {
     "data": {
      "application/vnd.jupyter.widget-view+json": {
       "model_id": "25275f68aa4a4f0db08fa1e8dff7f4ff",
       "version_major": 2,
       "version_minor": 0
      },
      "text/plain": [
       "Validation: |                                                                                                 …"
      ]
     },
     "metadata": {},
     "output_type": "display_data"
    },
    {
     "data": {
      "application/vnd.jupyter.widget-view+json": {
       "model_id": "4857f3d1c533490c854dedb83629e2b2",
       "version_major": 2,
       "version_minor": 0
      },
      "text/plain": [
       "Validation: |                                                                                                 …"
      ]
     },
     "metadata": {},
     "output_type": "display_data"
    },
    {
     "data": {
      "application/vnd.jupyter.widget-view+json": {
       "model_id": "2f2c9bafe5794d4fb7512c718c52b216",
       "version_major": 2,
       "version_minor": 0
      },
      "text/plain": [
       "Validation: |                                                                                                 …"
      ]
     },
     "metadata": {},
     "output_type": "display_data"
    },
    {
     "data": {
      "application/vnd.jupyter.widget-view+json": {
       "model_id": "4389f1927f58417b9b296eec2db69a56",
       "version_major": 2,
       "version_minor": 0
      },
      "text/plain": [
       "Validation: |                                                                                                 …"
      ]
     },
     "metadata": {},
     "output_type": "display_data"
    },
    {
     "data": {
      "application/vnd.jupyter.widget-view+json": {
       "model_id": "60740e7a013d48e98b6ebf2f83762f79",
       "version_major": 2,
       "version_minor": 0
      },
      "text/plain": [
       "Validation: |                                                                                                 …"
      ]
     },
     "metadata": {},
     "output_type": "display_data"
    },
    {
     "data": {
      "application/vnd.jupyter.widget-view+json": {
       "model_id": "4e5c129716ae441299085bcd5f24e80f",
       "version_major": 2,
       "version_minor": 0
      },
      "text/plain": [
       "Validation: |                                                                                                 …"
      ]
     },
     "metadata": {},
     "output_type": "display_data"
    },
    {
     "data": {
      "application/vnd.jupyter.widget-view+json": {
       "model_id": "06af67e638ea4c2ab69cfcdf895f29e1",
       "version_major": 2,
       "version_minor": 0
      },
      "text/plain": [
       "Validation: |                                                                                                 …"
      ]
     },
     "metadata": {},
     "output_type": "display_data"
    },
    {
     "data": {
      "application/vnd.jupyter.widget-view+json": {
       "model_id": "d319cd69b2764c61920ea995fbea4995",
       "version_major": 2,
       "version_minor": 0
      },
      "text/plain": [
       "Validation: |                                                                                                 …"
      ]
     },
     "metadata": {},
     "output_type": "display_data"
    },
    {
     "data": {
      "application/vnd.jupyter.widget-view+json": {
       "model_id": "2a63f2db1dc64500869faa65cde4bb5f",
       "version_major": 2,
       "version_minor": 0
      },
      "text/plain": [
       "Validation: |                                                                                                 …"
      ]
     },
     "metadata": {},
     "output_type": "display_data"
    },
    {
     "data": {
      "text/plain": [
       "TransformerModel(output_chunk_shift=0, d_model=64, nhead=4, num_encoder_layers=3, num_decoder_layers=3, dim_feedforward=512, dropout=0.1, activation=relu, norm_type=None, custom_encoder=None, custom_decoder=None, input_chunk_length=72, output_chunk_length=12, model_name=Transformer_Final_All25, n_epochs=20, log_tensorboard=True, random_state=42)"
      ]
     },
     "execution_count": 116,
     "metadata": {},
     "output_type": "execute_result"
    }
   ],
   "source": [
    "full_train_ts  = scaled_cgm_series \n",
    "full_train_past = past_covariates  # unscaled past for the 25\n",
    "# Fit past cov scaler on full set\n",
    "global_past_scaler = Scaler(StandardScaler(), global_fit=True)\n",
    "global_past_scaler.fit(full_train_past)\n",
    "full_train_past_scaled = global_past_scaler.transform(full_train_past)\n",
    "\n",
    "# Train final transformer on all 25\n",
    "final_model = TransformerModel(\n",
    "    input_chunk_length=72,\n",
    "    output_chunk_length=12,\n",
    "    model_name=\"Transformer_Final_All25\",\n",
    "    n_epochs=20,\n",
    "    log_tensorboard=True,\n",
    "    random_state=42\n",
    ")\n",
    "final_model.fit(\n",
    "    series=full_train_ts,\n",
    "    past_covariates=full_train_past_scaled,\n",
    "    val_series=scaled_holdout_cgm,\n",
    "    val_past_covariates=holdout_past_scaled,\n",
    "    dataloader_kwargs={'num_workers':4},\n",
    "    verbose=True\n",
    ")\n"
   ]
  },
  {
   "cell_type": "code",
   "execution_count": 188,
   "id": "9f31fe98-fa29-4ec9-bcf5-ce856efbfbed",
   "metadata": {},
   "outputs": [],
   "source": [
    "final_model.save(\"Transformer_25_patients\")"
   ]
  },
  {
   "cell_type": "code",
   "execution_count": 28,
   "id": "3e248fe1-f196-4110-9ea5-c234d6acf433",
   "metadata": {},
   "outputs": [],
   "source": [
    "def backtest_model(\n",
    "    model,\n",
    "    model_name,\n",
    "    val_series,\n",
    "    scaler,\n",
    "    forecast_horizon=12,\n",
    "    stride=12,\n",
    "    retrain=True,\n",
    "    verbose=True,\n",
    "    save_dir=\"model_results\",\n",
    "    past_covariates=None,\n",
    "    future_covariates=None,\n",
    "    last_points_only=True\n",
    "):\n",
    "    start_time = time.time()\n",
    "    # historical forecasts\n",
    "    forecasts = model.historical_forecasts(\n",
    "        series=val_series,\n",
    "        past_covariates=past_covariates,\n",
    "        future_covariates=future_covariates,\n",
    "        start=0,\n",
    "        forecast_horizon=forecast_horizon,\n",
    "        stride=stride,\n",
    "        retrain=retrain,\n",
    "        last_points_only=last_points_only,\n",
    "        verbose=verbose\n",
    "    )\n",
    "    total_time = time.time() - start_time\n",
    "    plot_dir = os.path.join(save_dir, f\"{model_name}_plots\")\n",
    "    os.makedirs(plot_dir, exist_ok=True)\n",
    "    all_maes, all_rmses = [], []\n",
    "    concatenated_forecasts = []\n",
    "    all_pred, all_act = [], []\n",
    "    for i, val_ts in enumerate(val_series):\n",
    "        fc = forecasts[i]\n",
    "        if isinstance(fc, list):\n",
    "            forecast_series = concatenate(fc, axis=0)\n",
    "        else:\n",
    "            forecast_series = fc\n",
    "        concatenated_forecasts.append(forecast_series)\n",
    "        # plot\n",
    "        plt.figure(figsize=(10,4))\n",
    "        scaler.inverse_transform(val_ts).plot(label=\"Actual\")\n",
    "        scaler.inverse_transform(forecast_series).plot(label=\"Forecast\")\n",
    "        plt.title(f\"{model_name} - Series {i}\")\n",
    "        plt.legend(); plt.tight_layout()\n",
    "        plt.savefig(os.path.join(plot_dir, f\"{model_name}_series_{i}.png\"), dpi=300)\n",
    "        plt.close()\n",
    "        # metrics\n",
    "        truth = val_ts.slice_intersect(forecast_series)\n",
    "        un_pred = scaler.inverse_transform(forecast_series)\n",
    "        un_act  = scaler.inverse_transform(truth)\n",
    "        mae_val  = mae(un_act, un_pred)\n",
    "        rmse_val = rmse(un_act, un_pred)\n",
    "        all_maes.append(mae_val)\n",
    "        all_rmses.append(rmse_val)\n",
    "        all_pred.extend(un_pred.values().flatten())\n",
    "        all_act.extend(un_act.values().flatten())\n",
    "    # save metrics\n",
    "    with open(os.path.join(plot_dir, f\"{model_name}_metrics.txt\"), 'w') as f:\n",
    "        f.write(f\"Average MAE: {np.mean(all_maes):.4f}\\n\")\n",
    "        f.write(f\"Average RMSE: {np.mean(all_rmses):.4f}\\n\")\n",
    "        f.write(f\"Total time: {total_time:.2f}s\\n\")\n",
    "    # Clarke\n",
    "    with open(os.path.join(plot_dir, f\"{model_name}_metrics.txt\"), 'a') as f:\n",
    "        f.write(\"\\nClarke Error Grid Analysis:\\n\")\n",
    "        _, zones = evaluate_clarke_error(concatenated_forecasts, val_series, scaler, model_name, save_file=f)\n",
    "        # save plot\n",
    "        fig, _ = clarke_error_grid(np.array(all_act), np.array(all_pred), model_name)\n",
    "        fig.savefig(os.path.join(plot_dir, f\"{model_name}_clarke_error.png\"), dpi=300)\n",
    "        fig.show()\n",
    "    return all_maes, all_rmses, total_time, zones"
   ]
  },
  {
   "cell_type": "code",
   "execution_count": 131,
   "id": "b810e62a-a6ab-44b2-89ac-c32f227a22b2",
   "metadata": {},
   "outputs": [
    {
     "data": {
      "application/vnd.jupyter.widget-view+json": {
       "model_id": "c4e1209e9507485a8c54b1195407c6e3",
       "version_major": 2,
       "version_minor": 0
      },
      "text/plain": [
       "Predicting: |                                                                                                 …"
      ]
     },
     "metadata": {},
     "output_type": "display_data"
    },
    {
     "name": "stdout",
     "output_type": "stream",
     "text": [
      "\n",
      "Clarke Error Grid for Transformer_Holdout:\n",
      "Zone A: 89.22%\n",
      "Zone B: 8.88%\n",
      "Zone C: 0.00%\n",
      "Zone D: 1.90%\n",
      "Zone E: 0.00%\n"
     ]
    },
    {
     "data": {
      "image/png": "[encoded data removed]",
      "text/plain": [
       "<Figure size 640x480 with 1 Axes>"
      ]
     },
     "metadata": {},
     "output_type": "display_data"
    },
    {
     "name": "stdout",
     "output_type": "stream",
     "text": [
      "Hold-out MAE: 10.18\n",
      "Hold-out RMSE: 14.13\n",
      "Hold-out runtime: 8.82s\n",
      "Hold-out Clarke zones: [22932, 2283, 0, 489, 0]\n"
     ]
    }
   ],
   "source": [
    "holdout_maes, holdout_rmses, holdout_time, holdout_zones = backtest_model(\n",
    "    model=final_model,\n",
    "    model_name=\"Transformer_Holdout\",\n",
    "    val_series=scaled_holdout_cgm,\n",
    "    scaler=target_scaler,\n",
    "    forecast_horizon=12,\n",
    "    stride=12,\n",
    "    retrain=False,\n",
    "    verbose=True,\n",
    "    last_points_only=False,\n",
    "    save_dir=\"holdout_results\",\n",
    "    past_covariates=holdout_past_scaled\n",
    ")\n",
    "print(f\"Hold-out MAE: {np.mean(holdout_maes):.2f}\")\n",
    "print(f\"Hold-out RMSE: {np.mean(holdout_rmses):.2f}\")\n",
    "print(f\"Hold-out runtime: {holdout_time:.2f}s\")\n",
    "print(f\"Hold-out Clarke zones: {holdout_zones}\")\n"
   ]
  },
  {
   "cell_type": "code",
   "execution_count": 129,
   "id": "1d24500d-d786-4bd3-8cc7-01474c94097c",
   "metadata": {},
   "outputs": [
    {
     "data": {
      "text/plain": [
       "array([0.])"
      ]
     },
     "execution_count": 129,
     "metadata": {},
     "output_type": "execute_result"
    }
   ],
   "source": [
    "min(scaled_holdout_cgm[0].values())"
   ]
  },
  {
   "cell_type": "code",
   "execution_count": null,
   "id": "b28eda37-8267-4d6c-9b8b-04d52d5f6b3e",
   "metadata": {},
   "outputs": [],
   "source": [
    "min(glob scaled_holdout_cgm[0].values())"
   ]
  },
  {
   "cell_type": "markdown",
   "id": "b79d0012-a3a2-4c68-befb-cd653a5b1250",
   "metadata": {},
   "source": [
    "# Walk Forward Validation"
   ]
  },
  {
   "cell_type": "code",
   "execution_count": 32,
   "id": "ef6ab8c2-6001-4cf4-b6d5-35f79a8980a4",
   "metadata": {
    "scrolled": true
   },
   "outputs": [
    {
     "data": {
      "application/vnd.jupyter.widget-view+json": {
       "model_id": "7560f6717cf945c3abf792df9e731cd2",
       "version_major": 2,
       "version_minor": 0
      },
      "text/plain": [
       "Training: |                                                                                                   …"
      ]
     },
     "metadata": {},
     "output_type": "display_data"
    },
    {
     "data": {
      "application/vnd.jupyter.widget-view+json": {
       "model_id": "7d96d9c96e18415f9031040369d95c1f",
       "version_major": 2,
       "version_minor": 0
      },
      "text/plain": [
       "Predicting: |                                                                                                 …"
      ]
     },
     "metadata": {},
     "output_type": "display_data"
    },
    {
     "data": {
      "application/vnd.jupyter.widget-view+json": {
       "model_id": "0e7babad701c43478ebb86daa1126a25",
       "version_major": 2,
       "version_minor": 0
      },
      "text/plain": [
       "Predicting: |                                                                                                 …"
      ]
     },
     "metadata": {},
     "output_type": "display_data"
    },
    {
     "data": {
      "application/vnd.jupyter.widget-view+json": {
       "model_id": "6fb5ebd56c6a475d9ff2e59a1b73f8e6",
       "version_major": 2,
       "version_minor": 0
      },
      "text/plain": [
       "Predicting: |                                                                                                 …"
      ]
     },
     "metadata": {},
     "output_type": "display_data"
    },
    {
     "data": {
      "application/vnd.jupyter.widget-view+json": {
       "model_id": "94262330f41c458ea3120b5adab149ef",
       "version_major": 2,
       "version_minor": 0
      },
      "text/plain": [
       "Predicting: |                                                                                                 …"
      ]
     },
     "metadata": {},
     "output_type": "display_data"
    },
    {
     "data": {
      "application/vnd.jupyter.widget-view+json": {
       "model_id": "ed95c37057e343a2beeaa961417701ec",
       "version_major": 2,
       "version_minor": 0
      },
      "text/plain": [
       "Predicting: |                                                                                                 …"
      ]
     },
     "metadata": {},
     "output_type": "display_data"
    },
    {
     "data": {
      "application/vnd.jupyter.widget-view+json": {
       "model_id": "47deffb9d0cf4cdc9d315eb15544d991",
       "version_major": 2,
       "version_minor": 0
      },
      "text/plain": [
       "Predicting: |                                                                                                 …"
      ]
     },
     "metadata": {},
     "output_type": "display_data"
    },
    {
     "data": {
      "application/vnd.jupyter.widget-view+json": {
       "model_id": "4bf5f94a5ed24bad9803ac78240e40ad",
       "version_major": 2,
       "version_minor": 0
      },
      "text/plain": [
       "Predicting: |                                                                                                 …"
      ]
     },
     "metadata": {},
     "output_type": "display_data"
    },
    {
     "data": {
      "application/vnd.jupyter.widget-view+json": {
       "model_id": "e64cd89e329e4c16981c498a1a3ae086",
       "version_major": 2,
       "version_minor": 0
      },
      "text/plain": [
       "Predicting: |                                                                                                 …"
      ]
     },
     "metadata": {},
     "output_type": "display_data"
    },
    {
     "data": {
      "application/vnd.jupyter.widget-view+json": {
       "model_id": "ae7ffca1de174561bb5295eba02e4976",
       "version_major": 2,
       "version_minor": 0
      },
      "text/plain": [
       "Predicting: |                                                                                                 …"
      ]
     },
     "metadata": {},
     "output_type": "display_data"
    },
    {
     "data": {
      "application/vnd.jupyter.widget-view+json": {
       "model_id": "15457c8aea43466ca43d6411935796e6",
       "version_major": 2,
       "version_minor": 0
      },
      "text/plain": [
       "Predicting: |                                                                                                 …"
      ]
     },
     "metadata": {},
     "output_type": "display_data"
    },
    {
     "data": {
      "application/vnd.jupyter.widget-view+json": {
       "model_id": "40f4562f04ee4de1881d52502514b6b2",
       "version_major": 2,
       "version_minor": 0
      },
      "text/plain": [
       "Predicting: |                                                                                                 …"
      ]
     },
     "metadata": {},
     "output_type": "display_data"
    },
    {
     "data": {
      "application/vnd.jupyter.widget-view+json": {
       "model_id": "2b1c02d48acc4e85ac5c71fe7dd7dc67",
       "version_major": 2,
       "version_minor": 0
      },
      "text/plain": [
       "Predicting: |                                                                                                 …"
      ]
     },
     "metadata": {},
     "output_type": "display_data"
    },
    {
     "data": {
      "application/vnd.jupyter.widget-view+json": {
       "model_id": "2db67556f04d4d74be4ab4050bf9bb1e",
       "version_major": 2,
       "version_minor": 0
      },
      "text/plain": [
       "Predicting: |                                                                                                 …"
      ]
     },
     "metadata": {},
     "output_type": "display_data"
    },
    {
     "data": {
      "application/vnd.jupyter.widget-view+json": {
       "model_id": "5808bc28bc08487ab3cc348d37c25d05",
       "version_major": 2,
       "version_minor": 0
      },
      "text/plain": [
       "Predicting: |                                                                                                 …"
      ]
     },
     "metadata": {},
     "output_type": "display_data"
    },
    {
     "data": {
      "application/vnd.jupyter.widget-view+json": {
       "model_id": "f7d6fe8e81d44f7fb32141a70efd9f67",
       "version_major": 2,
       "version_minor": 0
      },
      "text/plain": [
       "Predicting: |                                                                                                 …"
      ]
     },
     "metadata": {},
     "output_type": "display_data"
    },
    {
     "data": {
      "application/vnd.jupyter.widget-view+json": {
       "model_id": "3db3ff29c11b4e9588b3e85faf0b0c43",
       "version_major": 2,
       "version_minor": 0
      },
      "text/plain": [
       "Predicting: |                                                                                                 …"
      ]
     },
     "metadata": {},
     "output_type": "display_data"
    },
    {
     "data": {
      "application/vnd.jupyter.widget-view+json": {
       "model_id": "47b6c1f25756437886c875a19e059a38",
       "version_major": 2,
       "version_minor": 0
      },
      "text/plain": [
       "Predicting: |                                                                                                 …"
      ]
     },
     "metadata": {},
     "output_type": "display_data"
    },
    {
     "data": {
      "application/vnd.jupyter.widget-view+json": {
       "model_id": "d4ebeb8210704df28c77fdb0cf93d5e4",
       "version_major": 2,
       "version_minor": 0
      },
      "text/plain": [
       "Predicting: |                                                                                                 …"
      ]
     },
     "metadata": {},
     "output_type": "display_data"
    },
    {
     "data": {
      "application/vnd.jupyter.widget-view+json": {
       "model_id": "f38e7ee8e6f34f59935bf79b998fb283",
       "version_major": 2,
       "version_minor": 0
      },
      "text/plain": [
       "Predicting: |                                                                                                 …"
      ]
     },
     "metadata": {},
     "output_type": "display_data"
    },
    {
     "data": {
      "application/vnd.jupyter.widget-view+json": {
       "model_id": "1f4418a29beb4960849bbb65d5bdfc33",
       "version_major": 2,
       "version_minor": 0
      },
      "text/plain": [
       "Predicting: |                                                                                                 …"
      ]
     },
     "metadata": {},
     "output_type": "display_data"
    },
    {
     "data": {
      "application/vnd.jupyter.widget-view+json": {
       "model_id": "f9b49acdd6c74a388ada6392dff9a7dc",
       "version_major": 2,
       "version_minor": 0
      },
      "text/plain": [
       "Predicting: |                                                                                                 …"
      ]
     },
     "metadata": {},
     "output_type": "display_data"
    },
    {
     "data": {
      "application/vnd.jupyter.widget-view+json": {
       "model_id": "d2f0a03b8b67444791020ba426c6197b",
       "version_major": 2,
       "version_minor": 0
      },
      "text/plain": [
       "Predicting: |                                                                                                 …"
      ]
     },
     "metadata": {},
     "output_type": "display_data"
    },
    {
     "data": {
      "application/vnd.jupyter.widget-view+json": {
       "model_id": "7ef726d24c0a4c63942f10ac7a6a9b63",
       "version_major": 2,
       "version_minor": 0
      },
      "text/plain": [
       "Predicting: |                                                                                                 …"
      ]
     },
     "metadata": {},
     "output_type": "display_data"
    },
    {
     "data": {
      "application/vnd.jupyter.widget-view+json": {
       "model_id": "1c824af3f42a4164aca249395b93c9dc",
       "version_major": 2,
       "version_minor": 0
      },
      "text/plain": [
       "Predicting: |                                                                                                 …"
      ]
     },
     "metadata": {},
     "output_type": "display_data"
    },
    {
     "data": {
      "application/vnd.jupyter.widget-view+json": {
       "model_id": "2809eabcabf4406fb9cc79924ec1110b",
       "version_major": 2,
       "version_minor": 0
      },
      "text/plain": [
       "Predicting: |                                                                                                 …"
      ]
     },
     "metadata": {},
     "output_type": "display_data"
    },
    {
     "name": "stdout",
     "output_type": "stream",
     "text": [
      "Fold 1 — MAE: 11.33, RMSE: 13.24\n",
      "\n",
      "Clarke Error Grid for Transformer_WF_Fold1:\n",
      "Zone A: 82.00%\n",
      "Zone B: 10.67%\n",
      "Zone C: 0.00%\n",
      "Zone D: 7.33%\n",
      "Zone E: 0.00%\n"
     ]
    },
    {
     "data": {
      "application/vnd.jupyter.widget-view+json": {
       "model_id": "0a62b4745e7a47cfab07a3e457b91a4a",
       "version_major": 2,
       "version_minor": 0
      },
      "text/plain": [
       "Training: |                                                                                                   …"
      ]
     },
     "metadata": {},
     "output_type": "display_data"
    },
    {
     "data": {
      "application/vnd.jupyter.widget-view+json": {
       "model_id": "9d797255b6244423a2a69182986af6e6",
       "version_major": 2,
       "version_minor": 0
      },
      "text/plain": [
       "Predicting: |                                                                                                 …"
      ]
     },
     "metadata": {},
     "output_type": "display_data"
    },
    {
     "data": {
      "application/vnd.jupyter.widget-view+json": {
       "model_id": "4d60c182d711487d8a5125573712bb99",
       "version_major": 2,
       "version_minor": 0
      },
      "text/plain": [
       "Predicting: |                                                                                                 …"
      ]
     },
     "metadata": {},
     "output_type": "display_data"
    },
    {
     "data": {
      "application/vnd.jupyter.widget-view+json": {
       "model_id": "1312d54aec61480487bd3225df308649",
       "version_major": 2,
       "version_minor": 0
      },
      "text/plain": [
       "Predicting: |                                                                                                 …"
      ]
     },
     "metadata": {},
     "output_type": "display_data"
    },
    {
     "data": {
      "application/vnd.jupyter.widget-view+json": {
       "model_id": "3c48246a65c343eb98cb0807e1aca1d8",
       "version_major": 2,
       "version_minor": 0
      },
      "text/plain": [
       "Predicting: |                                                                                                 …"
      ]
     },
     "metadata": {},
     "output_type": "display_data"
    },
    {
     "data": {
      "application/vnd.jupyter.widget-view+json": {
       "model_id": "293a677a80a1429d88e4e1b53285ee36",
       "version_major": 2,
       "version_minor": 0
      },
      "text/plain": [
       "Predicting: |                                                                                                 …"
      ]
     },
     "metadata": {},
     "output_type": "display_data"
    },
    {
     "data": {
      "application/vnd.jupyter.widget-view+json": {
       "model_id": "b300f6b7ba194a289dc7724ac248e85f",
       "version_major": 2,
       "version_minor": 0
      },
      "text/plain": [
       "Predicting: |                                                                                                 …"
      ]
     },
     "metadata": {},
     "output_type": "display_data"
    },
    {
     "data": {
      "application/vnd.jupyter.widget-view+json": {
       "model_id": "0bbf6a07d2494ec6a33a77335f59259d",
       "version_major": 2,
       "version_minor": 0
      },
      "text/plain": [
       "Predicting: |                                                                                                 …"
      ]
     },
     "metadata": {},
     "output_type": "display_data"
    },
    {
     "data": {
      "application/vnd.jupyter.widget-view+json": {
       "model_id": "45646e07712747cca8d4fe55da3018b8",
       "version_major": 2,
       "version_minor": 0
      },
      "text/plain": [
       "Predicting: |                                                                                                 …"
      ]
     },
     "metadata": {},
     "output_type": "display_data"
    },
    {
     "data": {
      "application/vnd.jupyter.widget-view+json": {
       "model_id": "28a2a85c164048dcb18974d9de2f6ee9",
       "version_major": 2,
       "version_minor": 0
      },
      "text/plain": [
       "Predicting: |                                                                                                 …"
      ]
     },
     "metadata": {},
     "output_type": "display_data"
    },
    {
     "data": {
      "application/vnd.jupyter.widget-view+json": {
       "model_id": "eaa7b26a95544c6186c85adf3b529c1b",
       "version_major": 2,
       "version_minor": 0
      },
      "text/plain": [
       "Predicting: |                                                                                                 …"
      ]
     },
     "metadata": {},
     "output_type": "display_data"
    },
    {
     "data": {
      "application/vnd.jupyter.widget-view+json": {
       "model_id": "48435634b5354e59a9a76bc7165884f5",
       "version_major": 2,
       "version_minor": 0
      },
      "text/plain": [
       "Predicting: |                                                                                                 …"
      ]
     },
     "metadata": {},
     "output_type": "display_data"
    },
    {
     "data": {
      "application/vnd.jupyter.widget-view+json": {
       "model_id": "50730fdc94474ff79e55d14569bd2c0b",
       "version_major": 2,
       "version_minor": 0
      },
      "text/plain": [
       "Predicting: |                                                                                                 …"
      ]
     },
     "metadata": {},
     "output_type": "display_data"
    },
    {
     "data": {
      "application/vnd.jupyter.widget-view+json": {
       "model_id": "5ed33e4cae4545c7b91a5e4323bfdd84",
       "version_major": 2,
       "version_minor": 0
      },
      "text/plain": [
       "Predicting: |                                                                                                 …"
      ]
     },
     "metadata": {},
     "output_type": "display_data"
    },
    {
     "data": {
      "application/vnd.jupyter.widget-view+json": {
       "model_id": "6b402ba23d804d7aa236f7ed0e148638",
       "version_major": 2,
       "version_minor": 0
      },
      "text/plain": [
       "Predicting: |                                                                                                 …"
      ]
     },
     "metadata": {},
     "output_type": "display_data"
    },
    {
     "data": {
      "application/vnd.jupyter.widget-view+json": {
       "model_id": "a0ccd4802cc247f2af23045a0264f1d2",
       "version_major": 2,
       "version_minor": 0
      },
      "text/plain": [
       "Predicting: |                                                                                                 …"
      ]
     },
     "metadata": {},
     "output_type": "display_data"
    },
    {
     "data": {
      "application/vnd.jupyter.widget-view+json": {
       "model_id": "b338e58a63294f84bda63d06a3d53888",
       "version_major": 2,
       "version_minor": 0
      },
      "text/plain": [
       "Predicting: |                                                                                                 …"
      ]
     },
     "metadata": {},
     "output_type": "display_data"
    },
    {
     "data": {
      "application/vnd.jupyter.widget-view+json": {
       "model_id": "e1f91a27a1a844218cb88734013b9cb8",
       "version_major": 2,
       "version_minor": 0
      },
      "text/plain": [
       "Predicting: |                                                                                                 …"
      ]
     },
     "metadata": {},
     "output_type": "display_data"
    },
    {
     "data": {
      "application/vnd.jupyter.widget-view+json": {
       "model_id": "ed52d1018b1f48b48c29ac3febe96008",
       "version_major": 2,
       "version_minor": 0
      },
      "text/plain": [
       "Predicting: |                                                                                                 …"
      ]
     },
     "metadata": {},
     "output_type": "display_data"
    },
    {
     "data": {
      "application/vnd.jupyter.widget-view+json": {
       "model_id": "6dc2b42d1b79446396d2b435dfbdf09c",
       "version_major": 2,
       "version_minor": 0
      },
      "text/plain": [
       "Predicting: |                                                                                                 …"
      ]
     },
     "metadata": {},
     "output_type": "display_data"
    },
    {
     "data": {
      "application/vnd.jupyter.widget-view+json": {
       "model_id": "ee32f30a649e4391859bc3263071945a",
       "version_major": 2,
       "version_minor": 0
      },
      "text/plain": [
       "Predicting: |                                                                                                 …"
      ]
     },
     "metadata": {},
     "output_type": "display_data"
    },
    {
     "data": {
      "application/vnd.jupyter.widget-view+json": {
       "model_id": "ff34ccfec73b4c6ba065b13a6ddd1922",
       "version_major": 2,
       "version_minor": 0
      },
      "text/plain": [
       "Predicting: |                                                                                                 …"
      ]
     },
     "metadata": {},
     "output_type": "display_data"
    },
    {
     "data": {
      "application/vnd.jupyter.widget-view+json": {
       "model_id": "581b0e110af645e79512432bc87ce7b8",
       "version_major": 2,
       "version_minor": 0
      },
      "text/plain": [
       "Predicting: |                                                                                                 …"
      ]
     },
     "metadata": {},
     "output_type": "display_data"
    },
    {
     "data": {
      "application/vnd.jupyter.widget-view+json": {
       "model_id": "a730e22ff2da442bbb80feb6ec5aee7a",
       "version_major": 2,
       "version_minor": 0
      },
      "text/plain": [
       "Predicting: |                                                                                                 …"
      ]
     },
     "metadata": {},
     "output_type": "display_data"
    },
    {
     "data": {
      "application/vnd.jupyter.widget-view+json": {
       "model_id": "987e8744dcf344618fbfff661351a671",
       "version_major": 2,
       "version_minor": 0
      },
      "text/plain": [
       "Predicting: |                                                                                                 …"
      ]
     },
     "metadata": {},
     "output_type": "display_data"
    },
    {
     "data": {
      "application/vnd.jupyter.widget-view+json": {
       "model_id": "226f95940fc6448aae2d00e9b5205220",
       "version_major": 2,
       "version_minor": 0
      },
      "text/plain": [
       "Predicting: |                                                                                                 …"
      ]
     },
     "metadata": {},
     "output_type": "display_data"
    },
    {
     "name": "stdout",
     "output_type": "stream",
     "text": [
      "Fold 64 — MAE: 17.84, RMSE: 20.43\n",
      "\n",
      "Clarke Error Grid for Transformer_WF_Fold64:\n",
      "Zone A: 69.00%\n",
      "Zone B: 23.00%\n",
      "Zone C: 0.00%\n",
      "Zone D: 8.00%\n",
      "Zone E: 0.00%\n"
     ]
    },
    {
     "data": {
      "application/vnd.jupyter.widget-view+json": {
       "model_id": "b3b91886707749c3902df7653c087f63",
       "version_major": 2,
       "version_minor": 0
      },
      "text/plain": [
       "Training: |                                                                                                   …"
      ]
     },
     "metadata": {},
     "output_type": "display_data"
    },
    {
     "data": {
      "application/vnd.jupyter.widget-view+json": {
       "model_id": "cfe1cb7d1f834c6aa101911e423ef361",
       "version_major": 2,
       "version_minor": 0
      },
      "text/plain": [
       "Predicting: |                                                                                                 …"
      ]
     },
     "metadata": {},
     "output_type": "display_data"
    },
    {
     "data": {
      "application/vnd.jupyter.widget-view+json": {
       "model_id": "48cad440fb8f4611b961c7f16bda1ab5",
       "version_major": 2,
       "version_minor": 0
      },
      "text/plain": [
       "Predicting: |                                                                                                 …"
      ]
     },
     "metadata": {},
     "output_type": "display_data"
    },
    {
     "data": {
      "application/vnd.jupyter.widget-view+json": {
       "model_id": "360b77806c32434b9c2dc2aed24a6471",
       "version_major": 2,
       "version_minor": 0
      },
      "text/plain": [
       "Predicting: |                                                                                                 …"
      ]
     },
     "metadata": {},
     "output_type": "display_data"
    },
    {
     "data": {
      "application/vnd.jupyter.widget-view+json": {
       "model_id": "931dcda8422d4effb512554ed374e7df",
       "version_major": 2,
       "version_minor": 0
      },
      "text/plain": [
       "Predicting: |                                                                                                 …"
      ]
     },
     "metadata": {},
     "output_type": "display_data"
    },
    {
     "data": {
      "application/vnd.jupyter.widget-view+json": {
       "model_id": "6aa325836584432c8cb102d382808409",
       "version_major": 2,
       "version_minor": 0
      },
      "text/plain": [
       "Predicting: |                                                                                                 …"
      ]
     },
     "metadata": {},
     "output_type": "display_data"
    },
    {
     "data": {
      "application/vnd.jupyter.widget-view+json": {
       "model_id": "65de881f57444e89bbd80ee5e223c2f1",
       "version_major": 2,
       "version_minor": 0
      },
      "text/plain": [
       "Predicting: |                                                                                                 …"
      ]
     },
     "metadata": {},
     "output_type": "display_data"
    },
    {
     "data": {
      "application/vnd.jupyter.widget-view+json": {
       "model_id": "5d084dfc9cac4ac8bec3e81b391ae2b0",
       "version_major": 2,
       "version_minor": 0
      },
      "text/plain": [
       "Predicting: |                                                                                                 …"
      ]
     },
     "metadata": {},
     "output_type": "display_data"
    },
    {
     "data": {
      "application/vnd.jupyter.widget-view+json": {
       "model_id": "730936fc6c7846ffb1600f5594923e54",
       "version_major": 2,
       "version_minor": 0
      },
      "text/plain": [
       "Predicting: |                                                                                                 …"
      ]
     },
     "metadata": {},
     "output_type": "display_data"
    },
    {
     "data": {
      "application/vnd.jupyter.widget-view+json": {
       "model_id": "b978566db4fb4172901cfd34b9e8d9b6",
       "version_major": 2,
       "version_minor": 0
      },
      "text/plain": [
       "Predicting: |                                                                                                 …"
      ]
     },
     "metadata": {},
     "output_type": "display_data"
    },
    {
     "data": {
      "application/vnd.jupyter.widget-view+json": {
       "model_id": "5e423efa5ed64da29b7e9697d6ff281d",
       "version_major": 2,
       "version_minor": 0
      },
      "text/plain": [
       "Predicting: |                                                                                                 …"
      ]
     },
     "metadata": {},
     "output_type": "display_data"
    },
    {
     "data": {
      "application/vnd.jupyter.widget-view+json": {
       "model_id": "2af88925d1094ee0898364f1f9ef468c",
       "version_major": 2,
       "version_minor": 0
      },
      "text/plain": [
       "Predicting: |                                                                                                 …"
      ]
     },
     "metadata": {},
     "output_type": "display_data"
    },
    {
     "data": {
      "application/vnd.jupyter.widget-view+json": {
       "model_id": "4347ef90b7f84675b432436de7f5e1a8",
       "version_major": 2,
       "version_minor": 0
      },
      "text/plain": [
       "Predicting: |                                                                                                 …"
      ]
     },
     "metadata": {},
     "output_type": "display_data"
    },
    {
     "data": {
      "application/vnd.jupyter.widget-view+json": {
       "model_id": "6f9ebec0654c4874895c855f3a93e516",
       "version_major": 2,
       "version_minor": 0
      },
      "text/plain": [
       "Predicting: |                                                                                                 …"
      ]
     },
     "metadata": {},
     "output_type": "display_data"
    },
    {
     "data": {
      "application/vnd.jupyter.widget-view+json": {
       "model_id": "51c948f2ac1548b69dc212a90f1145ec",
       "version_major": 2,
       "version_minor": 0
      },
      "text/plain": [
       "Predicting: |                                                                                                 …"
      ]
     },
     "metadata": {},
     "output_type": "display_data"
    },
    {
     "data": {
      "application/vnd.jupyter.widget-view+json": {
       "model_id": "89efe457fb3f4361bb6968b245fc684f",
       "version_major": 2,
       "version_minor": 0
      },
      "text/plain": [
       "Predicting: |                                                                                                 …"
      ]
     },
     "metadata": {},
     "output_type": "display_data"
    },
    {
     "data": {
      "application/vnd.jupyter.widget-view+json": {
       "model_id": "6ea1d21b50e2427da4dc1af9a800ebc2",
       "version_major": 2,
       "version_minor": 0
      },
      "text/plain": [
       "Predicting: |                                                                                                 …"
      ]
     },
     "metadata": {},
     "output_type": "display_data"
    },
    {
     "data": {
      "application/vnd.jupyter.widget-view+json": {
       "model_id": "cac2642754c541f789e0a3ea3d044919",
       "version_major": 2,
       "version_minor": 0
      },
      "text/plain": [
       "Predicting: |                                                                                                 …"
      ]
     },
     "metadata": {},
     "output_type": "display_data"
    },
    {
     "data": {
      "application/vnd.jupyter.widget-view+json": {
       "model_id": "095ae0e48325434c84e59601ad39e944",
       "version_major": 2,
       "version_minor": 0
      },
      "text/plain": [
       "Predicting: |                                                                                                 …"
      ]
     },
     "metadata": {},
     "output_type": "display_data"
    },
    {
     "data": {
      "application/vnd.jupyter.widget-view+json": {
       "model_id": "de88b09147eb42d8aef673e9c39ebf1a",
       "version_major": 2,
       "version_minor": 0
      },
      "text/plain": [
       "Predicting: |                                                                                                 …"
      ]
     },
     "metadata": {},
     "output_type": "display_data"
    },
    {
     "data": {
      "application/vnd.jupyter.widget-view+json": {
       "model_id": "720f54c5b64341cdb03e1ba037544256",
       "version_major": 2,
       "version_minor": 0
      },
      "text/plain": [
       "Predicting: |                                                                                                 …"
      ]
     },
     "metadata": {},
     "output_type": "display_data"
    },
    {
     "data": {
      "application/vnd.jupyter.widget-view+json": {
       "model_id": "acd43a8e46694c8fa39a73bca98d9323",
       "version_major": 2,
       "version_minor": 0
      },
      "text/plain": [
       "Predicting: |                                                                                                 …"
      ]
     },
     "metadata": {},
     "output_type": "display_data"
    },
    {
     "data": {
      "application/vnd.jupyter.widget-view+json": {
       "model_id": "2ad8c60feebc406986b8e18dc119e5f1",
       "version_major": 2,
       "version_minor": 0
      },
      "text/plain": [
       "Predicting: |                                                                                                 …"
      ]
     },
     "metadata": {},
     "output_type": "display_data"
    },
    {
     "data": {
      "application/vnd.jupyter.widget-view+json": {
       "model_id": "96d3999bf2b54d438f2bbd8d43ca3008",
       "version_major": 2,
       "version_minor": 0
      },
      "text/plain": [
       "Predicting: |                                                                                                 …"
      ]
     },
     "metadata": {},
     "output_type": "display_data"
    },
    {
     "data": {
      "application/vnd.jupyter.widget-view+json": {
       "model_id": "79970908aec346bcba442330d2cb56c6",
       "version_major": 2,
       "version_minor": 0
      },
      "text/plain": [
       "Predicting: |                                                                                                 …"
      ]
     },
     "metadata": {},
     "output_type": "display_data"
    },
    {
     "data": {
      "application/vnd.jupyter.widget-view+json": {
       "model_id": "7f1adc8fc13342cb8c8603f2703ae581",
       "version_major": 2,
       "version_minor": 0
      },
      "text/plain": [
       "Predicting: |                                                                                                 …"
      ]
     },
     "metadata": {},
     "output_type": "display_data"
    },
    {
     "name": "stdout",
     "output_type": "stream",
     "text": [
      "Fold 128 — MAE: 9.00, RMSE: 12.26\n",
      "\n",
      "Clarke Error Grid for Transformer_WF_Fold128:\n",
      "Zone A: 93.00%\n",
      "Zone B: 7.00%\n",
      "Zone C: 0.00%\n",
      "Zone D: 0.00%\n",
      "Zone E: 0.00%\n"
     ]
    },
    {
     "data": {
      "application/vnd.jupyter.widget-view+json": {
       "model_id": "ba9d7416e24e4716ade4a09f13b30b94",
       "version_major": 2,
       "version_minor": 0
      },
      "text/plain": [
       "Training: |                                                                                                   …"
      ]
     },
     "metadata": {},
     "output_type": "display_data"
    },
    {
     "data": {
      "application/vnd.jupyter.widget-view+json": {
       "model_id": "33d370b37076490d9f57b39ca9c6002a",
       "version_major": 2,
       "version_minor": 0
      },
      "text/plain": [
       "Predicting: |                                                                                                 …"
      ]
     },
     "metadata": {},
     "output_type": "display_data"
    },
    {
     "data": {
      "application/vnd.jupyter.widget-view+json": {
       "model_id": "0dc3cf8baa6c46d1ada30603f40a7be8",
       "version_major": 2,
       "version_minor": 0
      },
      "text/plain": [
       "Predicting: |                                                                                                 …"
      ]
     },
     "metadata": {},
     "output_type": "display_data"
    },
    {
     "data": {
      "application/vnd.jupyter.widget-view+json": {
       "model_id": "552e6da89f9147d2bf8336894dd47b39",
       "version_major": 2,
       "version_minor": 0
      },
      "text/plain": [
       "Predicting: |                                                                                                 …"
      ]
     },
     "metadata": {},
     "output_type": "display_data"
    },
    {
     "data": {
      "application/vnd.jupyter.widget-view+json": {
       "model_id": "91f9166ce790415e955030e5d55291d8",
       "version_major": 2,
       "version_minor": 0
      },
      "text/plain": [
       "Predicting: |                                                                                                 …"
      ]
     },
     "metadata": {},
     "output_type": "display_data"
    },
    {
     "data": {
      "application/vnd.jupyter.widget-view+json": {
       "model_id": "a3667c15f17a4226b3665f7fce2551ae",
       "version_major": 2,
       "version_minor": 0
      },
      "text/plain": [
       "Predicting: |                                                                                                 …"
      ]
     },
     "metadata": {},
     "output_type": "display_data"
    },
    {
     "data": {
      "application/vnd.jupyter.widget-view+json": {
       "model_id": "6732ae9b9f5d495cbe53309c0f7db8b0",
       "version_major": 2,
       "version_minor": 0
      },
      "text/plain": [
       "Predicting: |                                                                                                 …"
      ]
     },
     "metadata": {},
     "output_type": "display_data"
    },
    {
     "data": {
      "application/vnd.jupyter.widget-view+json": {
       "model_id": "5658df9d8d8e48fabea89a2dd9a7e988",
       "version_major": 2,
       "version_minor": 0
      },
      "text/plain": [
       "Predicting: |                                                                                                 …"
      ]
     },
     "metadata": {},
     "output_type": "display_data"
    },
    {
     "data": {
      "application/vnd.jupyter.widget-view+json": {
       "model_id": "f2827f3188e740d981e88ee132b2d615",
       "version_major": 2,
       "version_minor": 0
      },
      "text/plain": [
       "Predicting: |                                                                                                 …"
      ]
     },
     "metadata": {},
     "output_type": "display_data"
    },
    {
     "data": {
      "application/vnd.jupyter.widget-view+json": {
       "model_id": "457b5c6a764d4f5cbf90d020421137d4",
       "version_major": 2,
       "version_minor": 0
      },
      "text/plain": [
       "Predicting: |                                                                                                 …"
      ]
     },
     "metadata": {},
     "output_type": "display_data"
    },
    {
     "data": {
      "application/vnd.jupyter.widget-view+json": {
       "model_id": "2734ad1de40b4bdcb3ba20979275231b",
       "version_major": 2,
       "version_minor": 0
      },
      "text/plain": [
       "Predicting: |                                                                                                 …"
      ]
     },
     "metadata": {},
     "output_type": "display_data"
    },
    {
     "data": {
      "application/vnd.jupyter.widget-view+json": {
       "model_id": "240a277d64724ffc873bc919ebda34f2",
       "version_major": 2,
       "version_minor": 0
      },
      "text/plain": [
       "Predicting: |                                                                                                 …"
      ]
     },
     "metadata": {},
     "output_type": "display_data"
    },
    {
     "data": {
      "application/vnd.jupyter.widget-view+json": {
       "model_id": "8b50df4f70d143dab708460cbe5af22f",
       "version_major": 2,
       "version_minor": 0
      },
      "text/plain": [
       "Predicting: |                                                                                                 …"
      ]
     },
     "metadata": {},
     "output_type": "display_data"
    },
    {
     "data": {
      "application/vnd.jupyter.widget-view+json": {
       "model_id": "10f506e12d3a4d698b3c08d70fa31440",
       "version_major": 2,
       "version_minor": 0
      },
      "text/plain": [
       "Predicting: |                                                                                                 …"
      ]
     },
     "metadata": {},
     "output_type": "display_data"
    },
    {
     "data": {
      "application/vnd.jupyter.widget-view+json": {
       "model_id": "bb380d712b2a4863be13931e8c40c2a7",
       "version_major": 2,
       "version_minor": 0
      },
      "text/plain": [
       "Predicting: |                                                                                                 …"
      ]
     },
     "metadata": {},
     "output_type": "display_data"
    },
    {
     "data": {
      "application/vnd.jupyter.widget-view+json": {
       "model_id": "f15ebb622b1a43389f59304ee7edcdcc",
       "version_major": 2,
       "version_minor": 0
      },
      "text/plain": [
       "Predicting: |                                                                                                 …"
      ]
     },
     "metadata": {},
     "output_type": "display_data"
    },
    {
     "data": {
      "application/vnd.jupyter.widget-view+json": {
       "model_id": "e1e40fe2dc61426a8b0e3bbffc7cdc63",
       "version_major": 2,
       "version_minor": 0
      },
      "text/plain": [
       "Predicting: |                                                                                                 …"
      ]
     },
     "metadata": {},
     "output_type": "display_data"
    },
    {
     "data": {
      "application/vnd.jupyter.widget-view+json": {
       "model_id": "0abfba7c22c443dea65ec838a7d612c9",
       "version_major": 2,
       "version_minor": 0
      },
      "text/plain": [
       "Predicting: |                                                                                                 …"
      ]
     },
     "metadata": {},
     "output_type": "display_data"
    },
    {
     "data": {
      "application/vnd.jupyter.widget-view+json": {
       "model_id": "13b511d02fe54a1d91fce5fb717669db",
       "version_major": 2,
       "version_minor": 0
      },
      "text/plain": [
       "Predicting: |                                                                                                 …"
      ]
     },
     "metadata": {},
     "output_type": "display_data"
    },
    {
     "data": {
      "application/vnd.jupyter.widget-view+json": {
       "model_id": "b5d7ba96367143dab4ba56f7756f60ea",
       "version_major": 2,
       "version_minor": 0
      },
      "text/plain": [
       "Predicting: |                                                                                                 …"
      ]
     },
     "metadata": {},
     "output_type": "display_data"
    },
    {
     "data": {
      "application/vnd.jupyter.widget-view+json": {
       "model_id": "1e94fc617f5f40a69f8e3fc502af3faf",
       "version_major": 2,
       "version_minor": 0
      },
      "text/plain": [
       "Predicting: |                                                                                                 …"
      ]
     },
     "metadata": {},
     "output_type": "display_data"
    },
    {
     "data": {
      "application/vnd.jupyter.widget-view+json": {
       "model_id": "85cb3a36ab6e4248a1687e7d559d5a1b",
       "version_major": 2,
       "version_minor": 0
      },
      "text/plain": [
       "Predicting: |                                                                                                 …"
      ]
     },
     "metadata": {},
     "output_type": "display_data"
    },
    {
     "data": {
      "application/vnd.jupyter.widget-view+json": {
       "model_id": "f6f0cada8556402cbf3a9d13b83157d6",
       "version_major": 2,
       "version_minor": 0
      },
      "text/plain": [
       "Predicting: |                                                                                                 …"
      ]
     },
     "metadata": {},
     "output_type": "display_data"
    },
    {
     "data": {
      "application/vnd.jupyter.widget-view+json": {
       "model_id": "002c066a0f8a4972b744dc3d041b067d",
       "version_major": 2,
       "version_minor": 0
      },
      "text/plain": [
       "Predicting: |                                                                                                 …"
      ]
     },
     "metadata": {},
     "output_type": "display_data"
    },
    {
     "data": {
      "application/vnd.jupyter.widget-view+json": {
       "model_id": "0d97c1ad630f43f7a69ae15a6bfd820c",
       "version_major": 2,
       "version_minor": 0
      },
      "text/plain": [
       "Predicting: |                                                                                                 …"
      ]
     },
     "metadata": {},
     "output_type": "display_data"
    },
    {
     "data": {
      "application/vnd.jupyter.widget-view+json": {
       "model_id": "3521a7a758764113b507d6b8a1756bc6",
       "version_major": 2,
       "version_minor": 0
      },
      "text/plain": [
       "Predicting: |                                                                                                 …"
      ]
     },
     "metadata": {},
     "output_type": "display_data"
    },
    {
     "name": "stdout",
     "output_type": "stream",
     "text": [
      "Fold 192 — MAE: 17.87, RMSE: 20.70\n",
      "\n",
      "Clarke Error Grid for Transformer_WF_Fold192:\n",
      "Zone A: 67.67%\n",
      "Zone B: 32.33%\n",
      "Zone C: 0.00%\n",
      "Zone D: 0.00%\n",
      "Zone E: 0.00%\n"
     ]
    },
    {
     "data": {
      "application/vnd.jupyter.widget-view+json": {
       "model_id": "63405e71bbc5407e81f478834def021e",
       "version_major": 2,
       "version_minor": 0
      },
      "text/plain": [
       "Training: |                                                                                                   …"
      ]
     },
     "metadata": {},
     "output_type": "display_data"
    },
    {
     "data": {
      "application/vnd.jupyter.widget-view+json": {
       "model_id": "c448e4a87a2a4f04ab820e5ac1d6212f",
       "version_major": 2,
       "version_minor": 0
      },
      "text/plain": [
       "Predicting: |                                                                                                 …"
      ]
     },
     "metadata": {},
     "output_type": "display_data"
    },
    {
     "data": {
      "application/vnd.jupyter.widget-view+json": {
       "model_id": "e6c5ffee542c47448759e1e2c588cfbc",
       "version_major": 2,
       "version_minor": 0
      },
      "text/plain": [
       "Predicting: |                                                                                                 …"
      ]
     },
     "metadata": {},
     "output_type": "display_data"
    },
    {
     "data": {
      "application/vnd.jupyter.widget-view+json": {
       "model_id": "5884eddcde5e4790bcddd6d4271338c4",
       "version_major": 2,
       "version_minor": 0
      },
      "text/plain": [
       "Predicting: |                                                                                                 …"
      ]
     },
     "metadata": {},
     "output_type": "display_data"
    },
    {
     "data": {
      "application/vnd.jupyter.widget-view+json": {
       "model_id": "3d23b9cafe864539b288d7df701d8386",
       "version_major": 2,
       "version_minor": 0
      },
      "text/plain": [
       "Predicting: |                                                                                                 …"
      ]
     },
     "metadata": {},
     "output_type": "display_data"
    },
    {
     "data": {
      "application/vnd.jupyter.widget-view+json": {
       "model_id": "e7f7f9b8e6b9442d92996797e76fa009",
       "version_major": 2,
       "version_minor": 0
      },
      "text/plain": [
       "Predicting: |                                                                                                 …"
      ]
     },
     "metadata": {},
     "output_type": "display_data"
    },
    {
     "data": {
      "application/vnd.jupyter.widget-view+json": {
       "model_id": "536a121ae882448fac03c089be66161b",
       "version_major": 2,
       "version_minor": 0
      },
      "text/plain": [
       "Predicting: |                                                                                                 …"
      ]
     },
     "metadata": {},
     "output_type": "display_data"
    },
    {
     "data": {
      "application/vnd.jupyter.widget-view+json": {
       "model_id": "944b2c453cb6470dad91dc092fce6cb3",
       "version_major": 2,
       "version_minor": 0
      },
      "text/plain": [
       "Predicting: |                                                                                                 …"
      ]
     },
     "metadata": {},
     "output_type": "display_data"
    },
    {
     "data": {
      "application/vnd.jupyter.widget-view+json": {
       "model_id": "3e90a26ecc124973ad9fb55028577dc4",
       "version_major": 2,
       "version_minor": 0
      },
      "text/plain": [
       "Predicting: |                                                                                                 …"
      ]
     },
     "metadata": {},
     "output_type": "display_data"
    },
    {
     "data": {
      "application/vnd.jupyter.widget-view+json": {
       "model_id": "952afe0412f94178b5676fcc3a69c974",
       "version_major": 2,
       "version_minor": 0
      },
      "text/plain": [
       "Predicting: |                                                                                                 …"
      ]
     },
     "metadata": {},
     "output_type": "display_data"
    },
    {
     "data": {
      "application/vnd.jupyter.widget-view+json": {
       "model_id": "83618fbc28af407191255898cca62ddf",
       "version_major": 2,
       "version_minor": 0
      },
      "text/plain": [
       "Predicting: |                                                                                                 …"
      ]
     },
     "metadata": {},
     "output_type": "display_data"
    },
    {
     "data": {
      "application/vnd.jupyter.widget-view+json": {
       "model_id": "45653f678b0e401b914a1f2289173679",
       "version_major": 2,
       "version_minor": 0
      },
      "text/plain": [
       "Predicting: |                                                                                                 …"
      ]
     },
     "metadata": {},
     "output_type": "display_data"
    },
    {
     "data": {
      "application/vnd.jupyter.widget-view+json": {
       "model_id": "519c02d538504c719352bbc7d64f23cc",
       "version_major": 2,
       "version_minor": 0
      },
      "text/plain": [
       "Predicting: |                                                                                                 …"
      ]
     },
     "metadata": {},
     "output_type": "display_data"
    },
    {
     "data": {
      "application/vnd.jupyter.widget-view+json": {
       "model_id": "1ef1e1c4513247799c77b58c687ad938",
       "version_major": 2,
       "version_minor": 0
      },
      "text/plain": [
       "Predicting: |                                                                                                 …"
      ]
     },
     "metadata": {},
     "output_type": "display_data"
    },
    {
     "data": {
      "application/vnd.jupyter.widget-view+json": {
       "model_id": "243d61f9435b4ef0bd1d4f3241f1748f",
       "version_major": 2,
       "version_minor": 0
      },
      "text/plain": [
       "Predicting: |                                                                                                 …"
      ]
     },
     "metadata": {},
     "output_type": "display_data"
    },
    {
     "data": {
      "application/vnd.jupyter.widget-view+json": {
       "model_id": "716e916828cc480f874df7f4ec28c1eb",
       "version_major": 2,
       "version_minor": 0
      },
      "text/plain": [
       "Predicting: |                                                                                                 …"
      ]
     },
     "metadata": {},
     "output_type": "display_data"
    },
    {
     "data": {
      "application/vnd.jupyter.widget-view+json": {
       "model_id": "6d8cedba99784280800716633919116a",
       "version_major": 2,
       "version_minor": 0
      },
      "text/plain": [
       "Predicting: |                                                                                                 …"
      ]
     },
     "metadata": {},
     "output_type": "display_data"
    },
    {
     "data": {
      "application/vnd.jupyter.widget-view+json": {
       "model_id": "ca3b486ac4d14a739fa1fd83f4ac6073",
       "version_major": 2,
       "version_minor": 0
      },
      "text/plain": [
       "Predicting: |                                                                                                 …"
      ]
     },
     "metadata": {},
     "output_type": "display_data"
    },
    {
     "data": {
      "application/vnd.jupyter.widget-view+json": {
       "model_id": "7a3479fb2a504783bd3935cd3599cfe8",
       "version_major": 2,
       "version_minor": 0
      },
      "text/plain": [
       "Predicting: |                                                                                                 …"
      ]
     },
     "metadata": {},
     "output_type": "display_data"
    },
    {
     "data": {
      "application/vnd.jupyter.widget-view+json": {
       "model_id": "448439214f444f0f936258fe7a8de8a2",
       "version_major": 2,
       "version_minor": 0
      },
      "text/plain": [
       "Predicting: |                                                                                                 …"
      ]
     },
     "metadata": {},
     "output_type": "display_data"
    },
    {
     "data": {
      "application/vnd.jupyter.widget-view+json": {
       "model_id": "439d5456b14e4d76881f6e79f0629e9d",
       "version_major": 2,
       "version_minor": 0
      },
      "text/plain": [
       "Predicting: |                                                                                                 …"
      ]
     },
     "metadata": {},
     "output_type": "display_data"
    },
    {
     "data": {
      "application/vnd.jupyter.widget-view+json": {
       "model_id": "a613ec68e9224315a8ca07035898e3da",
       "version_major": 2,
       "version_minor": 0
      },
      "text/plain": [
       "Predicting: |                                                                                                 …"
      ]
     },
     "metadata": {},
     "output_type": "display_data"
    },
    {
     "data": {
      "application/vnd.jupyter.widget-view+json": {
       "model_id": "7785a3e6a4e94cff88de308b21c0f223",
       "version_major": 2,
       "version_minor": 0
      },
      "text/plain": [
       "Predicting: |                                                                                                 …"
      ]
     },
     "metadata": {},
     "output_type": "display_data"
    },
    {
     "data": {
      "application/vnd.jupyter.widget-view+json": {
       "model_id": "a102b8f07d3845ff8c97f6450c4f4232",
       "version_major": 2,
       "version_minor": 0
      },
      "text/plain": [
       "Predicting: |                                                                                                 …"
      ]
     },
     "metadata": {},
     "output_type": "display_data"
    },
    {
     "data": {
      "application/vnd.jupyter.widget-view+json": {
       "model_id": "4a89f2f984bb4a91ab00c25c78f9b561",
       "version_major": 2,
       "version_minor": 0
      },
      "text/plain": [
       "Predicting: |                                                                                                 …"
      ]
     },
     "metadata": {},
     "output_type": "display_data"
    },
    {
     "data": {
      "application/vnd.jupyter.widget-view+json": {
       "model_id": "07ad3398fcaf4602b0202fbce3519bc9",
       "version_major": 2,
       "version_minor": 0
      },
      "text/plain": [
       "Predicting: |                                                                                                 …"
      ]
     },
     "metadata": {},
     "output_type": "display_data"
    },
    {
     "name": "stdout",
     "output_type": "stream",
     "text": [
      "Fold 256 — MAE: 9.60, RMSE: 10.81\n",
      "\n",
      "Clarke Error Grid for Transformer_WF_Fold256:\n",
      "Zone A: 99.33%\n",
      "Zone B: 0.67%\n",
      "Zone C: 0.00%\n",
      "Zone D: 0.00%\n",
      "Zone E: 0.00%\n"
     ]
    },
    {
     "data": {
      "application/vnd.jupyter.widget-view+json": {
       "model_id": "b833131f2e92405b90ef9b99fabd9d77",
       "version_major": 2,
       "version_minor": 0
      },
      "text/plain": [
       "Training: |                                                                                                   …"
      ]
     },
     "metadata": {},
     "output_type": "display_data"
    },
    {
     "data": {
      "application/vnd.jupyter.widget-view+json": {
       "model_id": "18f7d240ea624c639386c2e22e8a0a49",
       "version_major": 2,
       "version_minor": 0
      },
      "text/plain": [
       "Predicting: |                                                                                                 …"
      ]
     },
     "metadata": {},
     "output_type": "display_data"
    },
    {
     "data": {
      "application/vnd.jupyter.widget-view+json": {
       "model_id": "9f088ec581ff4930827121939c636b12",
       "version_major": 2,
       "version_minor": 0
      },
      "text/plain": [
       "Predicting: |                                                                                                 …"
      ]
     },
     "metadata": {},
     "output_type": "display_data"
    },
    {
     "data": {
      "application/vnd.jupyter.widget-view+json": {
       "model_id": "48df343ec2a64118ba2c020e21154ccf",
       "version_major": 2,
       "version_minor": 0
      },
      "text/plain": [
       "Predicting: |                                                                                                 …"
      ]
     },
     "metadata": {},
     "output_type": "display_data"
    },
    {
     "data": {
      "application/vnd.jupyter.widget-view+json": {
       "model_id": "b065bffd73c74225b0b0422f70f0a2a9",
       "version_major": 2,
       "version_minor": 0
      },
      "text/plain": [
       "Predicting: |                                                                                                 …"
      ]
     },
     "metadata": {},
     "output_type": "display_data"
    },
    {
     "data": {
      "application/vnd.jupyter.widget-view+json": {
       "model_id": "edec1c672c64454aba8febba3e9055fc",
       "version_major": 2,
       "version_minor": 0
      },
      "text/plain": [
       "Predicting: |                                                                                                 …"
      ]
     },
     "metadata": {},
     "output_type": "display_data"
    },
    {
     "data": {
      "application/vnd.jupyter.widget-view+json": {
       "model_id": "2b8e563cb60141be8b2b65d9a0dde88a",
       "version_major": 2,
       "version_minor": 0
      },
      "text/plain": [
       "Predicting: |                                                                                                 …"
      ]
     },
     "metadata": {},
     "output_type": "display_data"
    },
    {
     "data": {
      "application/vnd.jupyter.widget-view+json": {
       "model_id": "f53307867edb4ac98e06d2c58479c05e",
       "version_major": 2,
       "version_minor": 0
      },
      "text/plain": [
       "Predicting: |                                                                                                 …"
      ]
     },
     "metadata": {},
     "output_type": "display_data"
    },
    {
     "data": {
      "application/vnd.jupyter.widget-view+json": {
       "model_id": "8c3e28214cc24d019304f76018848676",
       "version_major": 2,
       "version_minor": 0
      },
      "text/plain": [
       "Predicting: |                                                                                                 …"
      ]
     },
     "metadata": {},
     "output_type": "display_data"
    },
    {
     "data": {
      "application/vnd.jupyter.widget-view+json": {
       "model_id": "cc7d373827c142feb7cc64d9e9062e8a",
       "version_major": 2,
       "version_minor": 0
      },
      "text/plain": [
       "Predicting: |                                                                                                 …"
      ]
     },
     "metadata": {},
     "output_type": "display_data"
    },
    {
     "data": {
      "application/vnd.jupyter.widget-view+json": {
       "model_id": "ec1671fb143e40f585945dc6962eaea3",
       "version_major": 2,
       "version_minor": 0
      },
      "text/plain": [
       "Predicting: |                                                                                                 …"
      ]
     },
     "metadata": {},
     "output_type": "display_data"
    },
    {
     "data": {
      "application/vnd.jupyter.widget-view+json": {
       "model_id": "81490f4d1ea3470993e0cf17ff3fdd02",
       "version_major": 2,
       "version_minor": 0
      },
      "text/plain": [
       "Predicting: |                                                                                                 …"
      ]
     },
     "metadata": {},
     "output_type": "display_data"
    },
    {
     "data": {
      "application/vnd.jupyter.widget-view+json": {
       "model_id": "4a6ddff4c20b453a8767e3722bbbe33e",
       "version_major": 2,
       "version_minor": 0
      },
      "text/plain": [
       "Predicting: |                                                                                                 …"
      ]
     },
     "metadata": {},
     "output_type": "display_data"
    },
    {
     "data": {
      "application/vnd.jupyter.widget-view+json": {
       "model_id": "e0154d6a307046978ea47085d39bc2a7",
       "version_major": 2,
       "version_minor": 0
      },
      "text/plain": [
       "Predicting: |                                                                                                 …"
      ]
     },
     "metadata": {},
     "output_type": "display_data"
    },
    {
     "data": {
      "application/vnd.jupyter.widget-view+json": {
       "model_id": "29b1a8ed01cd42f3ab7cfc7254a79be1",
       "version_major": 2,
       "version_minor": 0
      },
      "text/plain": [
       "Predicting: |                                                                                                 …"
      ]
     },
     "metadata": {},
     "output_type": "display_data"
    },
    {
     "data": {
      "application/vnd.jupyter.widget-view+json": {
       "model_id": "40b9d54bed8e434da7cdf9596e50297e",
       "version_major": 2,
       "version_minor": 0
      },
      "text/plain": [
       "Predicting: |                                                                                                 …"
      ]
     },
     "metadata": {},
     "output_type": "display_data"
    },
    {
     "data": {
      "application/vnd.jupyter.widget-view+json": {
       "model_id": "c2affd2994574c209c4b125b31f93f82",
       "version_major": 2,
       "version_minor": 0
      },
      "text/plain": [
       "Predicting: |                                                                                                 …"
      ]
     },
     "metadata": {},
     "output_type": "display_data"
    },
    {
     "data": {
      "application/vnd.jupyter.widget-view+json": {
       "model_id": "84a59945b9f449199c605f6584db8aec",
       "version_major": 2,
       "version_minor": 0
      },
      "text/plain": [
       "Predicting: |                                                                                                 …"
      ]
     },
     "metadata": {},
     "output_type": "display_data"
    },
    {
     "data": {
      "application/vnd.jupyter.widget-view+json": {
       "model_id": "70a59f7bdfeb4dae8e48b1988d55062a",
       "version_major": 2,
       "version_minor": 0
      },
      "text/plain": [
       "Predicting: |                                                                                                 …"
      ]
     },
     "metadata": {},
     "output_type": "display_data"
    },
    {
     "data": {
      "application/vnd.jupyter.widget-view+json": {
       "model_id": "9249240ee2224a18af4bebdb798a94c6",
       "version_major": 2,
       "version_minor": 0
      },
      "text/plain": [
       "Predicting: |                                                                                                 …"
      ]
     },
     "metadata": {},
     "output_type": "display_data"
    },
    {
     "data": {
      "application/vnd.jupyter.widget-view+json": {
       "model_id": "5048cc8fa1924ac6b422a6f2b8fbb6b6",
       "version_major": 2,
       "version_minor": 0
      },
      "text/plain": [
       "Predicting: |                                                                                                 …"
      ]
     },
     "metadata": {},
     "output_type": "display_data"
    },
    {
     "data": {
      "application/vnd.jupyter.widget-view+json": {
       "model_id": "2c588dcb67bd4456ba1cd62d5c70b367",
       "version_major": 2,
       "version_minor": 0
      },
      "text/plain": [
       "Predicting: |                                                                                                 …"
      ]
     },
     "metadata": {},
     "output_type": "display_data"
    },
    {
     "data": {
      "application/vnd.jupyter.widget-view+json": {
       "model_id": "cd13ef7b20c34b3b9ce9edb38031fbdb",
       "version_major": 2,
       "version_minor": 0
      },
      "text/plain": [
       "Predicting: |                                                                                                 …"
      ]
     },
     "metadata": {},
     "output_type": "display_data"
    },
    {
     "data": {
      "application/vnd.jupyter.widget-view+json": {
       "model_id": "b7554d73ec7a42b29848efe39d06f3ff",
       "version_major": 2,
       "version_minor": 0
      },
      "text/plain": [
       "Predicting: |                                                                                                 …"
      ]
     },
     "metadata": {},
     "output_type": "display_data"
    },
    {
     "data": {
      "application/vnd.jupyter.widget-view+json": {
       "model_id": "f02a419716614c3fa6b9ada56d9a7920",
       "version_major": 2,
       "version_minor": 0
      },
      "text/plain": [
       "Predicting: |                                                                                                 …"
      ]
     },
     "metadata": {},
     "output_type": "display_data"
    },
    {
     "data": {
      "application/vnd.jupyter.widget-view+json": {
       "model_id": "01e7323fb0bf4983ae591145fd5f0f13",
       "version_major": 2,
       "version_minor": 0
      },
      "text/plain": [
       "Predicting: |                                                                                                 …"
      ]
     },
     "metadata": {},
     "output_type": "display_data"
    },
    {
     "name": "stdout",
     "output_type": "stream",
     "text": [
      "Fold 320 — MAE: 12.74, RMSE: 15.64\n",
      "\n",
      "Clarke Error Grid for Transformer_WF_Fold320:\n",
      "Zone A: 93.33%\n",
      "Zone B: 5.67%\n",
      "Zone C: 0.00%\n",
      "Zone D: 1.00%\n",
      "Zone E: 0.00%\n"
     ]
    },
    {
     "data": {
      "application/vnd.jupyter.widget-view+json": {
       "model_id": "21f44c4699814b16ab8aa1d21a283faa",
       "version_major": 2,
       "version_minor": 0
      },
      "text/plain": [
       "Training: |                                                                                                   …"
      ]
     },
     "metadata": {},
     "output_type": "display_data"
    },
    {
     "data": {
      "application/vnd.jupyter.widget-view+json": {
       "model_id": "27024c5cd0e843fdb9a3f97709a4e100",
       "version_major": 2,
       "version_minor": 0
      },
      "text/plain": [
       "Predicting: |                                                                                                 …"
      ]
     },
     "metadata": {},
     "output_type": "display_data"
    },
    {
     "data": {
      "application/vnd.jupyter.widget-view+json": {
       "model_id": "54000d523e104c3bbcda2382d3bda7a8",
       "version_major": 2,
       "version_minor": 0
      },
      "text/plain": [
       "Predicting: |                                                                                                 …"
      ]
     },
     "metadata": {},
     "output_type": "display_data"
    },
    {
     "data": {
      "application/vnd.jupyter.widget-view+json": {
       "model_id": "7a85f03d20a94559870aacf05d9acc4a",
       "version_major": 2,
       "version_minor": 0
      },
      "text/plain": [
       "Predicting: |                                                                                                 …"
      ]
     },
     "metadata": {},
     "output_type": "display_data"
    },
    {
     "data": {
      "application/vnd.jupyter.widget-view+json": {
       "model_id": "99ed103d83b542e9a033030a30799d75",
       "version_major": 2,
       "version_minor": 0
      },
      "text/plain": [
       "Predicting: |                                                                                                 …"
      ]
     },
     "metadata": {},
     "output_type": "display_data"
    },
    {
     "data": {
      "application/vnd.jupyter.widget-view+json": {
       "model_id": "260a54b722f142c0913712586b8efd60",
       "version_major": 2,
       "version_minor": 0
      },
      "text/plain": [
       "Predicting: |                                                                                                 …"
      ]
     },
     "metadata": {},
     "output_type": "display_data"
    },
    {
     "data": {
      "application/vnd.jupyter.widget-view+json": {
       "model_id": "532fd64f542f45f9901dce6f67e36ff1",
       "version_major": 2,
       "version_minor": 0
      },
      "text/plain": [
       "Predicting: |                                                                                                 …"
      ]
     },
     "metadata": {},
     "output_type": "display_data"
    },
    {
     "data": {
      "application/vnd.jupyter.widget-view+json": {
       "model_id": "28d5abed40c04e6787fc6dc5bd8e408c",
       "version_major": 2,
       "version_minor": 0
      },
      "text/plain": [
       "Predicting: |                                                                                                 …"
      ]
     },
     "metadata": {},
     "output_type": "display_data"
    },
    {
     "data": {
      "application/vnd.jupyter.widget-view+json": {
       "model_id": "3a669cab6407414b9ee0d078311cd455",
       "version_major": 2,
       "version_minor": 0
      },
      "text/plain": [
       "Predicting: |                                                                                                 …"
      ]
     },
     "metadata": {},
     "output_type": "display_data"
    },
    {
     "data": {
      "application/vnd.jupyter.widget-view+json": {
       "model_id": "1b123ff908d74981bc4ee2a52d72968b",
       "version_major": 2,
       "version_minor": 0
      },
      "text/plain": [
       "Predicting: |                                                                                                 …"
      ]
     },
     "metadata": {},
     "output_type": "display_data"
    },
    {
     "data": {
      "application/vnd.jupyter.widget-view+json": {
       "model_id": "b82aa460cedd4945b733c45a2ddb91df",
       "version_major": 2,
       "version_minor": 0
      },
      "text/plain": [
       "Predicting: |                                                                                                 …"
      ]
     },
     "metadata": {},
     "output_type": "display_data"
    },
    {
     "data": {
      "application/vnd.jupyter.widget-view+json": {
       "model_id": "32056aa866a443f8b3438fa419eec254",
       "version_major": 2,
       "version_minor": 0
      },
      "text/plain": [
       "Predicting: |                                                                                                 …"
      ]
     },
     "metadata": {},
     "output_type": "display_data"
    },
    {
     "data": {
      "application/vnd.jupyter.widget-view+json": {
       "model_id": "eb306cad02d042c1893f59a966eef5b5",
       "version_major": 2,
       "version_minor": 0
      },
      "text/plain": [
       "Predicting: |                                                                                                 …"
      ]
     },
     "metadata": {},
     "output_type": "display_data"
    },
    {
     "data": {
      "application/vnd.jupyter.widget-view+json": {
       "model_id": "05c4e26e15144b80aebb609876fb8caa",
       "version_major": 2,
       "version_minor": 0
      },
      "text/plain": [
       "Predicting: |                                                                                                 …"
      ]
     },
     "metadata": {},
     "output_type": "display_data"
    },
    {
     "data": {
      "application/vnd.jupyter.widget-view+json": {
       "model_id": "7704874e080a4e32a3662886e0546fa0",
       "version_major": 2,
       "version_minor": 0
      },
      "text/plain": [
       "Predicting: |                                                                                                 …"
      ]
     },
     "metadata": {},
     "output_type": "display_data"
    },
    {
     "data": {
      "application/vnd.jupyter.widget-view+json": {
       "model_id": "6b90eded2c24497e9721033435a4d018",
       "version_major": 2,
       "version_minor": 0
      },
      "text/plain": [
       "Predicting: |                                                                                                 …"
      ]
     },
     "metadata": {},
     "output_type": "display_data"
    },
    {
     "data": {
      "application/vnd.jupyter.widget-view+json": {
       "model_id": "a4f0d396cc644f2c973f0569069d5d1b",
       "version_major": 2,
       "version_minor": 0
      },
      "text/plain": [
       "Predicting: |                                                                                                 …"
      ]
     },
     "metadata": {},
     "output_type": "display_data"
    },
    {
     "data": {
      "application/vnd.jupyter.widget-view+json": {
       "model_id": "c9c426b782e8465f8d979cd075b83aa8",
       "version_major": 2,
       "version_minor": 0
      },
      "text/plain": [
       "Predicting: |                                                                                                 …"
      ]
     },
     "metadata": {},
     "output_type": "display_data"
    },
    {
     "data": {
      "application/vnd.jupyter.widget-view+json": {
       "model_id": "83466f50280c49e0b2fa552afe8756ac",
       "version_major": 2,
       "version_minor": 0
      },
      "text/plain": [
       "Predicting: |                                                                                                 …"
      ]
     },
     "metadata": {},
     "output_type": "display_data"
    },
    {
     "data": {
      "application/vnd.jupyter.widget-view+json": {
       "model_id": "a8eedce106be491c8ebac4d2afc0bcbf",
       "version_major": 2,
       "version_minor": 0
      },
      "text/plain": [
       "Predicting: |                                                                                                 …"
      ]
     },
     "metadata": {},
     "output_type": "display_data"
    },
    {
     "data": {
      "application/vnd.jupyter.widget-view+json": {
       "model_id": "0b2795accbcf4796b596737e945f2b3a",
       "version_major": 2,
       "version_minor": 0
      },
      "text/plain": [
       "Predicting: |                                                                                                 …"
      ]
     },
     "metadata": {},
     "output_type": "display_data"
    },
    {
     "data": {
      "application/vnd.jupyter.widget-view+json": {
       "model_id": "0b182bb06f5d4df6a47229a9c1ebeba5",
       "version_major": 2,
       "version_minor": 0
      },
      "text/plain": [
       "Predicting: |                                                                                                 …"
      ]
     },
     "metadata": {},
     "output_type": "display_data"
    },
    {
     "data": {
      "application/vnd.jupyter.widget-view+json": {
       "model_id": "ca9f1d45a6d9456c80cac58c91003217",
       "version_major": 2,
       "version_minor": 0
      },
      "text/plain": [
       "Predicting: |                                                                                                 …"
      ]
     },
     "metadata": {},
     "output_type": "display_data"
    },
    {
     "data": {
      "application/vnd.jupyter.widget-view+json": {
       "model_id": "9c1c40c01f1b42bba9ecbaa37dc49cc7",
       "version_major": 2,
       "version_minor": 0
      },
      "text/plain": [
       "Predicting: |                                                                                                 …"
      ]
     },
     "metadata": {},
     "output_type": "display_data"
    },
    {
     "data": {
      "application/vnd.jupyter.widget-view+json": {
       "model_id": "fcbe2e685a98451a93302aa27d9dcbe9",
       "version_major": 2,
       "version_minor": 0
      },
      "text/plain": [
       "Predicting: |                                                                                                 …"
      ]
     },
     "metadata": {},
     "output_type": "display_data"
    },
    {
     "data": {
      "application/vnd.jupyter.widget-view+json": {
       "model_id": "beeb499de40c4ce08ce8e327d3201351",
       "version_major": 2,
       "version_minor": 0
      },
      "text/plain": [
       "Predicting: |                                                                                                 …"
      ]
     },
     "metadata": {},
     "output_type": "display_data"
    },
    {
     "name": "stdout",
     "output_type": "stream",
     "text": [
      "Fold 384 — MAE: 12.54, RMSE: 13.62\n",
      "\n",
      "Clarke Error Grid for Transformer_WF_Fold384:\n",
      "Zone A: 89.67%\n",
      "Zone B: 8.67%\n",
      "Zone C: 0.00%\n",
      "Zone D: 1.67%\n",
      "Zone E: 0.00%\n"
     ]
    },
    {
     "data": {
      "application/vnd.jupyter.widget-view+json": {
       "model_id": "a4595e4004374e5fb1c0af50212a7736",
       "version_major": 2,
       "version_minor": 0
      },
      "text/plain": [
       "Training: |                                                                                                   …"
      ]
     },
     "metadata": {},
     "output_type": "display_data"
    },
    {
     "data": {
      "application/vnd.jupyter.widget-view+json": {
       "model_id": "f6e685a5e0014191976f60cf16514b6c",
       "version_major": 2,
       "version_minor": 0
      },
      "text/plain": [
       "Predicting: |                                                                                                 …"
      ]
     },
     "metadata": {},
     "output_type": "display_data"
    },
    {
     "data": {
      "application/vnd.jupyter.widget-view+json": {
       "model_id": "fd2aa89d9b6349f7bc0834c5d085eeb4",
       "version_major": 2,
       "version_minor": 0
      },
      "text/plain": [
       "Predicting: |                                                                                                 …"
      ]
     },
     "metadata": {},
     "output_type": "display_data"
    },
    {
     "data": {
      "application/vnd.jupyter.widget-view+json": {
       "model_id": "cedf5faee0e540cf991c358726bff59e",
       "version_major": 2,
       "version_minor": 0
      },
      "text/plain": [
       "Predicting: |                                                                                                 …"
      ]
     },
     "metadata": {},
     "output_type": "display_data"
    },
    {
     "data": {
      "application/vnd.jupyter.widget-view+json": {
       "model_id": "ed4586ede8394b739c6c7ed7bdba3671",
       "version_major": 2,
       "version_minor": 0
      },
      "text/plain": [
       "Predicting: |                                                                                                 …"
      ]
     },
     "metadata": {},
     "output_type": "display_data"
    },
    {
     "data": {
      "application/vnd.jupyter.widget-view+json": {
       "model_id": "8759ca0132dd472cae5e407218a880ba",
       "version_major": 2,
       "version_minor": 0
      },
      "text/plain": [
       "Predicting: |                                                                                                 …"
      ]
     },
     "metadata": {},
     "output_type": "display_data"
    },
    {
     "data": {
      "application/vnd.jupyter.widget-view+json": {
       "model_id": "790a9849b2d743f2b142771524cb2447",
       "version_major": 2,
       "version_minor": 0
      },
      "text/plain": [
       "Predicting: |                                                                                                 …"
      ]
     },
     "metadata": {},
     "output_type": "display_data"
    },
    {
     "data": {
      "application/vnd.jupyter.widget-view+json": {
       "model_id": "7a8c74e7ee564f64bb7418f6e90a431b",
       "version_major": 2,
       "version_minor": 0
      },
      "text/plain": [
       "Predicting: |                                                                                                 …"
      ]
     },
     "metadata": {},
     "output_type": "display_data"
    },
    {
     "data": {
      "application/vnd.jupyter.widget-view+json": {
       "model_id": "3de52802fe6f45f7bb42829dc7c4ea7a",
       "version_major": 2,
       "version_minor": 0
      },
      "text/plain": [
       "Predicting: |                                                                                                 …"
      ]
     },
     "metadata": {},
     "output_type": "display_data"
    },
    {
     "data": {
      "application/vnd.jupyter.widget-view+json": {
       "model_id": "a973becdb2254061b8116282a9295ef4",
       "version_major": 2,
       "version_minor": 0
      },
      "text/plain": [
       "Predicting: |                                                                                                 …"
      ]
     },
     "metadata": {},
     "output_type": "display_data"
    },
    {
     "data": {
      "application/vnd.jupyter.widget-view+json": {
       "model_id": "d518e4e3049c4f28ac1424f00291c42b",
       "version_major": 2,
       "version_minor": 0
      },
      "text/plain": [
       "Predicting: |                                                                                                 …"
      ]
     },
     "metadata": {},
     "output_type": "display_data"
    },
    {
     "data": {
      "application/vnd.jupyter.widget-view+json": {
       "model_id": "90aca3f68b32408da47156777986faab",
       "version_major": 2,
       "version_minor": 0
      },
      "text/plain": [
       "Predicting: |                                                                                                 …"
      ]
     },
     "metadata": {},
     "output_type": "display_data"
    },
    {
     "data": {
      "application/vnd.jupyter.widget-view+json": {
       "model_id": "630403b202a647b1be639b25d2c8e9cc",
       "version_major": 2,
       "version_minor": 0
      },
      "text/plain": [
       "Predicting: |                                                                                                 …"
      ]
     },
     "metadata": {},
     "output_type": "display_data"
    },
    {
     "data": {
      "application/vnd.jupyter.widget-view+json": {
       "model_id": "756abffdb9cb431fa4365d75a15ca3a0",
       "version_major": 2,
       "version_minor": 0
      },
      "text/plain": [
       "Predicting: |                                                                                                 …"
      ]
     },
     "metadata": {},
     "output_type": "display_data"
    },
    {
     "data": {
      "application/vnd.jupyter.widget-view+json": {
       "model_id": "b639f995a3284a51ad2e738d11df68a8",
       "version_major": 2,
       "version_minor": 0
      },
      "text/plain": [
       "Predicting: |                                                                                                 …"
      ]
     },
     "metadata": {},
     "output_type": "display_data"
    },
    {
     "data": {
      "application/vnd.jupyter.widget-view+json": {
       "model_id": "4016b351f77e4578af1643d647449e11",
       "version_major": 2,
       "version_minor": 0
      },
      "text/plain": [
       "Predicting: |                                                                                                 …"
      ]
     },
     "metadata": {},
     "output_type": "display_data"
    },
    {
     "data": {
      "application/vnd.jupyter.widget-view+json": {
       "model_id": "b17fa00a166d459ea745c47d2f450dc5",
       "version_major": 2,
       "version_minor": 0
      },
      "text/plain": [
       "Predicting: |                                                                                                 …"
      ]
     },
     "metadata": {},
     "output_type": "display_data"
    },
    {
     "data": {
      "application/vnd.jupyter.widget-view+json": {
       "model_id": "a01dea9442ee4ae8abcd51917b9ca3fe",
       "version_major": 2,
       "version_minor": 0
      },
      "text/plain": [
       "Predicting: |                                                                                                 …"
      ]
     },
     "metadata": {},
     "output_type": "display_data"
    },
    {
     "data": {
      "application/vnd.jupyter.widget-view+json": {
       "model_id": "67178ae4566042efbd1875d7058f2915",
       "version_major": 2,
       "version_minor": 0
      },
      "text/plain": [
       "Predicting: |                                                                                                 …"
      ]
     },
     "metadata": {},
     "output_type": "display_data"
    },
    {
     "data": {
      "application/vnd.jupyter.widget-view+json": {
       "model_id": "a2f1c891f4604401b329e467536d4a0e",
       "version_major": 2,
       "version_minor": 0
      },
      "text/plain": [
       "Predicting: |                                                                                                 …"
      ]
     },
     "metadata": {},
     "output_type": "display_data"
    },
    {
     "data": {
      "application/vnd.jupyter.widget-view+json": {
       "model_id": "b95d77d985044369925d9c515dfda8e7",
       "version_major": 2,
       "version_minor": 0
      },
      "text/plain": [
       "Predicting: |                                                                                                 …"
      ]
     },
     "metadata": {},
     "output_type": "display_data"
    },
    {
     "data": {
      "application/vnd.jupyter.widget-view+json": {
       "model_id": "de9432df5839419c9d317024d5ca77fc",
       "version_major": 2,
       "version_minor": 0
      },
      "text/plain": [
       "Predicting: |                                                                                                 …"
      ]
     },
     "metadata": {},
     "output_type": "display_data"
    },
    {
     "data": {
      "application/vnd.jupyter.widget-view+json": {
       "model_id": "61e727cb745e4adc87c9944e9a76f03e",
       "version_major": 2,
       "version_minor": 0
      },
      "text/plain": [
       "Predicting: |                                                                                                 …"
      ]
     },
     "metadata": {},
     "output_type": "display_data"
    },
    {
     "data": {
      "application/vnd.jupyter.widget-view+json": {
       "model_id": "08c3497d9c7a406db2d8967dc8d96b08",
       "version_major": 2,
       "version_minor": 0
      },
      "text/plain": [
       "Predicting: |                                                                                                 …"
      ]
     },
     "metadata": {},
     "output_type": "display_data"
    },
    {
     "data": {
      "application/vnd.jupyter.widget-view+json": {
       "model_id": "2ac8298853994bccafd65cdb2430ec5a",
       "version_major": 2,
       "version_minor": 0
      },
      "text/plain": [
       "Predicting: |                                                                                                 …"
      ]
     },
     "metadata": {},
     "output_type": "display_data"
    },
    {
     "data": {
      "application/vnd.jupyter.widget-view+json": {
       "model_id": "458f0bf3b0e442b68be02bbf23fcd84a",
       "version_major": 2,
       "version_minor": 0
      },
      "text/plain": [
       "Predicting: |                                                                                                 …"
      ]
     },
     "metadata": {},
     "output_type": "display_data"
    },
    {
     "name": "stdout",
     "output_type": "stream",
     "text": [
      "Fold 448 — MAE: 9.98, RMSE: 11.71\n",
      "\n",
      "Clarke Error Grid for Transformer_WF_Fold448:\n",
      "Zone A: 92.00%\n",
      "Zone B: 8.00%\n",
      "Zone C: 0.00%\n",
      "Zone D: 0.00%\n",
      "Zone E: 0.00%\n"
     ]
    },
    {
     "data": {
      "application/vnd.jupyter.widget-view+json": {
       "model_id": "3e7d47dac56c4df5a8ef4a2d585f0f9a",
       "version_major": 2,
       "version_minor": 0
      },
      "text/plain": [
       "Training: |                                                                                                   …"
      ]
     },
     "metadata": {},
     "output_type": "display_data"
    },
    {
     "data": {
      "application/vnd.jupyter.widget-view+json": {
       "model_id": "47fe2112eafa40f98e89d6f52bab3620",
       "version_major": 2,
       "version_minor": 0
      },
      "text/plain": [
       "Predicting: |                                                                                                 …"
      ]
     },
     "metadata": {},
     "output_type": "display_data"
    },
    {
     "data": {
      "application/vnd.jupyter.widget-view+json": {
       "model_id": "b2bf1af2f1a949339b5790968f41e706",
       "version_major": 2,
       "version_minor": 0
      },
      "text/plain": [
       "Predicting: |                                                                                                 …"
      ]
     },
     "metadata": {},
     "output_type": "display_data"
    },
    {
     "data": {
      "application/vnd.jupyter.widget-view+json": {
       "model_id": "df0ca3a04e8c4c57b57f8fb6f18250cd",
       "version_major": 2,
       "version_minor": 0
      },
      "text/plain": [
       "Predicting: |                                                                                                 …"
      ]
     },
     "metadata": {},
     "output_type": "display_data"
    },
    {
     "data": {
      "application/vnd.jupyter.widget-view+json": {
       "model_id": "4b8129de01b24b2fad836c48e2206f88",
       "version_major": 2,
       "version_minor": 0
      },
      "text/plain": [
       "Predicting: |                                                                                                 …"
      ]
     },
     "metadata": {},
     "output_type": "display_data"
    },
    {
     "data": {
      "application/vnd.jupyter.widget-view+json": {
       "model_id": "dc7e19bbe88d46bcb5fe481683bead95",
       "version_major": 2,
       "version_minor": 0
      },
      "text/plain": [
       "Predicting: |                                                                                                 …"
      ]
     },
     "metadata": {},
     "output_type": "display_data"
    },
    {
     "data": {
      "application/vnd.jupyter.widget-view+json": {
       "model_id": "a285139f3e624967b134ed8b58c0a828",
       "version_major": 2,
       "version_minor": 0
      },
      "text/plain": [
       "Predicting: |                                                                                                 …"
      ]
     },
     "metadata": {},
     "output_type": "display_data"
    },
    {
     "data": {
      "application/vnd.jupyter.widget-view+json": {
       "model_id": "7c655c59601f4275ab8243287c0a4caf",
       "version_major": 2,
       "version_minor": 0
      },
      "text/plain": [
       "Predicting: |                                                                                                 …"
      ]
     },
     "metadata": {},
     "output_type": "display_data"
    },
    {
     "data": {
      "application/vnd.jupyter.widget-view+json": {
       "model_id": "989b9e52d5c04f9b8defa531baa1145c",
       "version_major": 2,
       "version_minor": 0
      },
      "text/plain": [
       "Predicting: |                                                                                                 …"
      ]
     },
     "metadata": {},
     "output_type": "display_data"
    },
    {
     "data": {
      "application/vnd.jupyter.widget-view+json": {
       "model_id": "0d6418adfd824499ab5406e5bd82ab4b",
       "version_major": 2,
       "version_minor": 0
      },
      "text/plain": [
       "Predicting: |                                                                                                 …"
      ]
     },
     "metadata": {},
     "output_type": "display_data"
    },
    {
     "data": {
      "application/vnd.jupyter.widget-view+json": {
       "model_id": "85c9d56211ed493b86365d45d8aea95d",
       "version_major": 2,
       "version_minor": 0
      },
      "text/plain": [
       "Predicting: |                                                                                                 …"
      ]
     },
     "metadata": {},
     "output_type": "display_data"
    },
    {
     "data": {
      "application/vnd.jupyter.widget-view+json": {
       "model_id": "19d5ba4e00ae4cdc90360937b92105d3",
       "version_major": 2,
       "version_minor": 0
      },
      "text/plain": [
       "Predicting: |                                                                                                 …"
      ]
     },
     "metadata": {},
     "output_type": "display_data"
    },
    {
     "data": {
      "application/vnd.jupyter.widget-view+json": {
       "model_id": "0bc942843ab843a2b54a93881ad0eb19",
       "version_major": 2,
       "version_minor": 0
      },
      "text/plain": [
       "Predicting: |                                                                                                 …"
      ]
     },
     "metadata": {},
     "output_type": "display_data"
    },
    {
     "data": {
      "application/vnd.jupyter.widget-view+json": {
       "model_id": "4c5dc3d3d1464a07acfd1e7629b8f4bd",
       "version_major": 2,
       "version_minor": 0
      },
      "text/plain": [
       "Predicting: |                                                                                                 …"
      ]
     },
     "metadata": {},
     "output_type": "display_data"
    },
    {
     "data": {
      "application/vnd.jupyter.widget-view+json": {
       "model_id": "50ca099e1ce14335998edfc578051ff9",
       "version_major": 2,
       "version_minor": 0
      },
      "text/plain": [
       "Predicting: |                                                                                                 …"
      ]
     },
     "metadata": {},
     "output_type": "display_data"
    },
    {
     "data": {
      "application/vnd.jupyter.widget-view+json": {
       "model_id": "8a9c75ad0b13489ebc8cc2b3af9123f5",
       "version_major": 2,
       "version_minor": 0
      },
      "text/plain": [
       "Predicting: |                                                                                                 …"
      ]
     },
     "metadata": {},
     "output_type": "display_data"
    },
    {
     "data": {
      "application/vnd.jupyter.widget-view+json": {
       "model_id": "5134423a279a41e8a20a2705182127f3",
       "version_major": 2,
       "version_minor": 0
      },
      "text/plain": [
       "Predicting: |                                                                                                 …"
      ]
     },
     "metadata": {},
     "output_type": "display_data"
    },
    {
     "data": {
      "application/vnd.jupyter.widget-view+json": {
       "model_id": "5a1cce62bc4146a283de6c6d1611d33f",
       "version_major": 2,
       "version_minor": 0
      },
      "text/plain": [
       "Predicting: |                                                                                                 …"
      ]
     },
     "metadata": {},
     "output_type": "display_data"
    },
    {
     "data": {
      "application/vnd.jupyter.widget-view+json": {
       "model_id": "22d79ba771b14b2db8d54a3671cfb93b",
       "version_major": 2,
       "version_minor": 0
      },
      "text/plain": [
       "Predicting: |                                                                                                 …"
      ]
     },
     "metadata": {},
     "output_type": "display_data"
    },
    {
     "data": {
      "application/vnd.jupyter.widget-view+json": {
       "model_id": "6878e42eb4cc49659f5dc9de066ca78e",
       "version_major": 2,
       "version_minor": 0
      },
      "text/plain": [
       "Predicting: |                                                                                                 …"
      ]
     },
     "metadata": {},
     "output_type": "display_data"
    },
    {
     "data": {
      "application/vnd.jupyter.widget-view+json": {
       "model_id": "6799e47fcd8644bd86cfd80ca7ae3192",
       "version_major": 2,
       "version_minor": 0
      },
      "text/plain": [
       "Predicting: |                                                                                                 …"
      ]
     },
     "metadata": {},
     "output_type": "display_data"
    },
    {
     "data": {
      "application/vnd.jupyter.widget-view+json": {
       "model_id": "8f7e788e22bb4112a4bbb797a5a2f2a4",
       "version_major": 2,
       "version_minor": 0
      },
      "text/plain": [
       "Predicting: |                                                                                                 …"
      ]
     },
     "metadata": {},
     "output_type": "display_data"
    },
    {
     "data": {
      "application/vnd.jupyter.widget-view+json": {
       "model_id": "e4e4f5d58cfc4cc7bc7f8a1d5e4cc12f",
       "version_major": 2,
       "version_minor": 0
      },
      "text/plain": [
       "Predicting: |                                                                                                 …"
      ]
     },
     "metadata": {},
     "output_type": "display_data"
    },
    {
     "data": {
      "application/vnd.jupyter.widget-view+json": {
       "model_id": "1da23cbd47a84facb841294ca5e8c480",
       "version_major": 2,
       "version_minor": 0
      },
      "text/plain": [
       "Predicting: |                                                                                                 …"
      ]
     },
     "metadata": {},
     "output_type": "display_data"
    },
    {
     "data": {
      "application/vnd.jupyter.widget-view+json": {
       "model_id": "3719638020454c5386ba5f916c983b86",
       "version_major": 2,
       "version_minor": 0
      },
      "text/plain": [
       "Predicting: |                                                                                                 …"
      ]
     },
     "metadata": {},
     "output_type": "display_data"
    },
    {
     "data": {
      "application/vnd.jupyter.widget-view+json": {
       "model_id": "aab3e9e3c688414e91034b6e033946ef",
       "version_major": 2,
       "version_minor": 0
      },
      "text/plain": [
       "Predicting: |                                                                                                 …"
      ]
     },
     "metadata": {},
     "output_type": "display_data"
    },
    {
     "name": "stdout",
     "output_type": "stream",
     "text": [
      "Fold 512 — MAE: 13.02, RMSE: 13.86\n",
      "\n",
      "Clarke Error Grid for Transformer_WF_Fold512:\n",
      "Zone A: 93.67%\n",
      "Zone B: 6.33%\n",
      "Zone C: 0.00%\n",
      "Zone D: 0.00%\n",
      "Zone E: 0.00%\n"
     ]
    },
    {
     "data": {
      "application/vnd.jupyter.widget-view+json": {
       "model_id": "9a3b332cfcda472a98c01f41593ac860",
       "version_major": 2,
       "version_minor": 0
      },
      "text/plain": [
       "Training: |                                                                                                   …"
      ]
     },
     "metadata": {},
     "output_type": "display_data"
    },
    {
     "data": {
      "application/vnd.jupyter.widget-view+json": {
       "model_id": "7d188ac0d49d4a8196ebf8e95d33c4a0",
       "version_major": 2,
       "version_minor": 0
      },
      "text/plain": [
       "Predicting: |                                                                                                 …"
      ]
     },
     "metadata": {},
     "output_type": "display_data"
    },
    {
     "data": {
      "application/vnd.jupyter.widget-view+json": {
       "model_id": "fdac1e3a3d364b27b60b71a14508ebf8",
       "version_major": 2,
       "version_minor": 0
      },
      "text/plain": [
       "Predicting: |                                                                                                 …"
      ]
     },
     "metadata": {},
     "output_type": "display_data"
    },
    {
     "data": {
      "application/vnd.jupyter.widget-view+json": {
       "model_id": "5b1ace7843ff489887a13a559ce95f33",
       "version_major": 2,
       "version_minor": 0
      },
      "text/plain": [
       "Predicting: |                                                                                                 …"
      ]
     },
     "metadata": {},
     "output_type": "display_data"
    },
    {
     "data": {
      "application/vnd.jupyter.widget-view+json": {
       "model_id": "da2892e9e34a4b77a3c9c133f7539cd7",
       "version_major": 2,
       "version_minor": 0
      },
      "text/plain": [
       "Predicting: |                                                                                                 …"
      ]
     },
     "metadata": {},
     "output_type": "display_data"
    },
    {
     "data": {
      "application/vnd.jupyter.widget-view+json": {
       "model_id": "f36fda681fd8413bb3a2b4d46a6c4334",
       "version_major": 2,
       "version_minor": 0
      },
      "text/plain": [
       "Predicting: |                                                                                                 …"
      ]
     },
     "metadata": {},
     "output_type": "display_data"
    },
    {
     "data": {
      "application/vnd.jupyter.widget-view+json": {
       "model_id": "39c5dd6c604146679a99bd3096e1cc90",
       "version_major": 2,
       "version_minor": 0
      },
      "text/plain": [
       "Predicting: |                                                                                                 …"
      ]
     },
     "metadata": {},
     "output_type": "display_data"
    },
    {
     "data": {
      "application/vnd.jupyter.widget-view+json": {
       "model_id": "a95298c98589490cb03548624130a83c",
       "version_major": 2,
       "version_minor": 0
      },
      "text/plain": [
       "Predicting: |                                                                                                 …"
      ]
     },
     "metadata": {},
     "output_type": "display_data"
    },
    {
     "data": {
      "application/vnd.jupyter.widget-view+json": {
       "model_id": "8aaf0510f8ed404b9f4b69bfcb4334e7",
       "version_major": 2,
       "version_minor": 0
      },
      "text/plain": [
       "Predicting: |                                                                                                 …"
      ]
     },
     "metadata": {},
     "output_type": "display_data"
    },
    {
     "data": {
      "application/vnd.jupyter.widget-view+json": {
       "model_id": "0ba42205a8cc4e419473f5b0d30d4647",
       "version_major": 2,
       "version_minor": 0
      },
      "text/plain": [
       "Predicting: |                                                                                                 …"
      ]
     },
     "metadata": {},
     "output_type": "display_data"
    },
    {
     "data": {
      "application/vnd.jupyter.widget-view+json": {
       "model_id": "fec9d95b555c4c189f83d9c5851aad6b",
       "version_major": 2,
       "version_minor": 0
      },
      "text/plain": [
       "Predicting: |                                                                                                 …"
      ]
     },
     "metadata": {},
     "output_type": "display_data"
    },
    {
     "data": {
      "application/vnd.jupyter.widget-view+json": {
       "model_id": "88210e7f88524fa1bfc356009fbc9084",
       "version_major": 2,
       "version_minor": 0
      },
      "text/plain": [
       "Predicting: |                                                                                                 …"
      ]
     },
     "metadata": {},
     "output_type": "display_data"
    },
    {
     "data": {
      "application/vnd.jupyter.widget-view+json": {
       "model_id": "5e18e5aa782843c8bd77ad00beda0d5d",
       "version_major": 2,
       "version_minor": 0
      },
      "text/plain": [
       "Predicting: |                                                                                                 …"
      ]
     },
     "metadata": {},
     "output_type": "display_data"
    },
    {
     "data": {
      "application/vnd.jupyter.widget-view+json": {
       "model_id": "d39c856e671f4f8f9d0fd5b32f32b697",
       "version_major": 2,
       "version_minor": 0
      },
      "text/plain": [
       "Predicting: |                                                                                                 …"
      ]
     },
     "metadata": {},
     "output_type": "display_data"
    },
    {
     "data": {
      "application/vnd.jupyter.widget-view+json": {
       "model_id": "193d9be4c8a64e69b0139a73355bdac4",
       "version_major": 2,
       "version_minor": 0
      },
      "text/plain": [
       "Predicting: |                                                                                                 …"
      ]
     },
     "metadata": {},
     "output_type": "display_data"
    },
    {
     "data": {
      "application/vnd.jupyter.widget-view+json": {
       "model_id": "5c0679fea3434a29a269f3632426b33d",
       "version_major": 2,
       "version_minor": 0
      },
      "text/plain": [
       "Predicting: |                                                                                                 …"
      ]
     },
     "metadata": {},
     "output_type": "display_data"
    },
    {
     "data": {
      "application/vnd.jupyter.widget-view+json": {
       "model_id": "5cc371a37c0645b48290093c16451820",
       "version_major": 2,
       "version_minor": 0
      },
      "text/plain": [
       "Predicting: |                                                                                                 …"
      ]
     },
     "metadata": {},
     "output_type": "display_data"
    },
    {
     "data": {
      "application/vnd.jupyter.widget-view+json": {
       "model_id": "6a9126802868454bb1ddf29ffc5d6f10",
       "version_major": 2,
       "version_minor": 0
      },
      "text/plain": [
       "Predicting: |                                                                                                 …"
      ]
     },
     "metadata": {},
     "output_type": "display_data"
    },
    {
     "data": {
      "application/vnd.jupyter.widget-view+json": {
       "model_id": "fb7302a322414892871e54af618f27a2",
       "version_major": 2,
       "version_minor": 0
      },
      "text/plain": [
       "Predicting: |                                                                                                 …"
      ]
     },
     "metadata": {},
     "output_type": "display_data"
    },
    {
     "data": {
      "application/vnd.jupyter.widget-view+json": {
       "model_id": "64f7761618f64fecb1dbf106a621ff80",
       "version_major": 2,
       "version_minor": 0
      },
      "text/plain": [
       "Predicting: |                                                                                                 …"
      ]
     },
     "metadata": {},
     "output_type": "display_data"
    },
    {
     "data": {
      "application/vnd.jupyter.widget-view+json": {
       "model_id": "9708d3c2c9f64387bd3ace494e440ed4",
       "version_major": 2,
       "version_minor": 0
      },
      "text/plain": [
       "Predicting: |                                                                                                 …"
      ]
     },
     "metadata": {},
     "output_type": "display_data"
    },
    {
     "data": {
      "application/vnd.jupyter.widget-view+json": {
       "model_id": "4ee0b84fddeb4004b5cdb621cc6f0d51",
       "version_major": 2,
       "version_minor": 0
      },
      "text/plain": [
       "Predicting: |                                                                                                 …"
      ]
     },
     "metadata": {},
     "output_type": "display_data"
    },
    {
     "data": {
      "application/vnd.jupyter.widget-view+json": {
       "model_id": "04e128b59f7a4b2ca71e79d19bf038db",
       "version_major": 2,
       "version_minor": 0
      },
      "text/plain": [
       "Predicting: |                                                                                                 …"
      ]
     },
     "metadata": {},
     "output_type": "display_data"
    },
    {
     "data": {
      "application/vnd.jupyter.widget-view+json": {
       "model_id": "19f51bbd93da4849a3758f83a72e2fed",
       "version_major": 2,
       "version_minor": 0
      },
      "text/plain": [
       "Predicting: |                                                                                                 …"
      ]
     },
     "metadata": {},
     "output_type": "display_data"
    },
    {
     "data": {
      "application/vnd.jupyter.widget-view+json": {
       "model_id": "688776ebf2a0408aaa52ce2a6ed23a7c",
       "version_major": 2,
       "version_minor": 0
      },
      "text/plain": [
       "Predicting: |                                                                                                 …"
      ]
     },
     "metadata": {},
     "output_type": "display_data"
    },
    {
     "data": {
      "application/vnd.jupyter.widget-view+json": {
       "model_id": "fc1450524e2c46efb38958fb00e61c1b",
       "version_major": 2,
       "version_minor": 0
      },
      "text/plain": [
       "Predicting: |                                                                                                 …"
      ]
     },
     "metadata": {},
     "output_type": "display_data"
    },
    {
     "name": "stdout",
     "output_type": "stream",
     "text": [
      "Fold 576 — MAE: 10.74, RMSE: 12.18\n",
      "\n",
      "Clarke Error Grid for Transformer_WF_Fold576:\n",
      "Zone A: 92.67%\n",
      "Zone B: 6.00%\n",
      "Zone C: 0.00%\n",
      "Zone D: 1.33%\n",
      "Zone E: 0.00%\n",
      "\n",
      "=== Aggregated Clarke Error Grid for all folds ===\n",
      "\n",
      "Clarke Error Grid for Transformer_WF_AllFolds:\n",
      "Zone A: 87.23%\n",
      "Zone B: 10.83%\n",
      "Zone C: 0.00%\n",
      "Zone D: 1.93%\n",
      "Zone E: 0.00%\n",
      "Overall WF MAE: 12.47\n",
      "Overall WF RMSE: 14.45\n"
     ]
    },
    {
     "data": {
      "image/png": "[encoded data removed]",
      "text/plain": [
       "<Figure size 640x480 with 1 Axes>"
      ]
     },
     "metadata": {},
     "output_type": "display_data"
    }
   ],
   "source": [
    "def walk_forward_splits(\n",
    "    ts: TimeSeries,\n",
    "    past_cov: TimeSeries,\n",
    "    initial_train_size: int,\n",
    "    horizon: int,\n",
    "    step: int = 1\n",
    "):\n",
    "    \"\"\"\n",
    "    Generate walk-forward (rolling-origin) validation splits.\n",
    "    \"\"\"\n",
    "    n = len(ts)\n",
    "    splits = []\n",
    "    for end_train in range(initial_train_size, n, step):\n",
    "        start_val = end_train\n",
    "        end_val = start_val + horizon\n",
    "        if end_val > n:\n",
    "            break\n",
    "        splits.append({\n",
    "            \"train_ts\": ts[:end_train],\n",
    "            \"val_ts\": ts[start_val:end_val],\n",
    "            \"train_past\": past_cov[:end_train],\n",
    "            \"val_past\": past_cov[start_val:end_val],\n",
    "        })\n",
    "    return splits\n",
    "\n",
    "# 2) Parameters & data\n",
    "HORIZON = 12\n",
    "INITIAL_TRAIN = len(cgm_series[0]) // 5     # first 20% of original series\n",
    "STEP = 12\n",
    "N_FOLDS = 10                                # number of folds to run\n",
    "\n",
    "target_scaler = Scaler(global_fit=True)\n",
    "target_scaler.fit(cgm_series)\n",
    "scaled_cgm_series = target_scaler.transform(cgm_series)\n",
    "\n",
    "# Prepare walk-forward splits on scaled data\n",
    "all_splits = [\n",
    "    walk_forward_splits(\n",
    "        ts=scaled_cgm_series[i],\n",
    "        past_cov=past_covariates[i],\n",
    "        initial_train_size=INITIAL_TRAIN,\n",
    "        horizon=HORIZON,\n",
    "        step=STEP\n",
    "    )\n",
    "    for i in range(len(scaled_cgm_series))\n",
    "]\n",
    "\n",
    "# Sample N_FOLDS evenly\n",
    "available_folds = len(all_splits[0])\n",
    "fold_indices = np.linspace(0, available_folds - 1, min(N_FOLDS, available_folds), dtype=int)\n",
    "\n",
    "# 3) Loop over selected folds\n",
    "all_preds = []\n",
    "all_vals = []\n",
    "distinct_mae = []\n",
    "distinct_rmse = []\n",
    "\n",
    "for idx in fold_indices:\n",
    "    fold_idx = int(idx)\n",
    "    # Gather split data\n",
    "    train_series = [s[fold_idx]['train_ts'] for s in all_splits]\n",
    "    val_series   = [s[fold_idx]['val_ts'] for s in all_splits]\n",
    "    train_past   = [s[fold_idx]['train_past'] for s in all_splits]\n",
    "    val_past     = [s[fold_idx]['val_past'] for s in all_splits]\n",
    "\n",
    "    # Scale covariates per fold\n",
    "    past_scaler = Scaler(StandardScaler(), global_fit=False)\n",
    "    past_scaler.fit(train_past)\n",
    "    t_cov = past_scaler.transform(train_past)\n",
    "    v_cov = past_scaler.transform(val_past)\n",
    "\n",
    "    # Initialize & train model\n",
    "    model = TransformerModel(\n",
    "        input_chunk_length=72,\n",
    "        output_chunk_length=HORIZON,\n",
    "        model_name=f\"Transformer_WF_Fold{fold_idx+1}\",\n",
    "        log_tensorboard=True,\n",
    "        n_epochs=10,\n",
    "        random_state=42\n",
    "    )\n",
    "    model.fit(\n",
    "        series=train_series,\n",
    "        past_covariates=t_cov,\n",
    "        verbose=True\n",
    "    )\n",
    "\n",
    "    # Forecast & evaluate per patient (unscaled)\n",
    "    fold_preds = []\n",
    "    maes, rmses = [], []\n",
    "    for ts_tr, ts_val, cov_tr, cov_val in zip(train_series, val_series, t_cov, v_cov):\n",
    "        # predict on scaled\n",
    "        cov_all = cov_tr.append(cov_val)\n",
    "        scaled_pred = model.predict(\n",
    "            n=len(ts_val),\n",
    "            series=ts_tr,\n",
    "            past_covariates=cov_all\n",
    "        )\n",
    "        # invert scaling\n",
    "        orig_val  = target_scaler.inverse_transform(ts_val)\n",
    "        orig_pred = target_scaler.inverse_transform(scaled_pred)\n",
    "\n",
    "        fold_preds.append(orig_pred)\n",
    "        maes.append(mae(orig_val, orig_pred))\n",
    "        rmses.append(rmse(orig_val, orig_pred))\n",
    "\n",
    "    # Collect for overall aggregation\n",
    "    all_preds.extend(fold_preds)\n",
    "    all_vals.extend([target_scaler.inverse_transform(v) for v in val_series])\n",
    "\n",
    "    # Store and print per-fold metrics (original scale)\n",
    "    fold_mae  = np.mean(maes)\n",
    "    fold_rmse = np.mean(rmses)\n",
    "    distinct_mae.append(fold_mae)\n",
    "    distinct_rmse.append(fold_rmse)\n",
    "    print(f\"Fold {fold_idx+1} — MAE: {fold_mae:.2f}, RMSE: {fold_rmse:.2f}\")\n",
    "\n",
    "    # Clarke Error Grid for this fold\n",
    "    evaluate_clarke_error(\n",
    "        fold_preds,\n",
    "        [target_scaler.inverse_transform(v) for v in val_series],\n",
    "        model_name=f\"Transformer_WF_Fold{fold_idx+1}\"\n",
    "    )\n",
    "\n",
    "# 4) Overall aggregated Clarke Error Grid\n",
    "print(\"\\n=== Aggregated Clarke Error Grid for all folds ===\")\n",
    "evaluate_clarke_error(\n",
    "    all_preds,\n",
    "    all_vals,\n",
    "    model_name=\"Transformer_WF_AllFolds\"\n",
    ")\n",
    "\n",
    "# 5) Overall CV results in original scale\n",
    "print(f\"Overall WF MAE: {np.mean(distinct_mae):.2f}\")\n",
    "print(f\"Overall WF RMSE: {np.mean(distinct_rmse):.2f}\")"
   ]
  },
  {
   "cell_type": "markdown",
   "id": "c976b8ed-efae-4c6f-923e-4ee0cf3ecccc",
   "metadata": {},
   "source": [
    "# ARIMA"
   ]
  },
  {
   "cell_type": "code",
   "execution_count": 20,
   "id": "40541f00-0d64-4ea6-b404-b7aea6d480db",
   "metadata": {
    "scrolled": true
   },
   "outputs": [
    {
     "name": "stdout",
     "output_type": "stream",
     "text": [
      "\n",
      "=== ARIMA Walk-Forward CV ===\n",
      "ARIMA Fold 1: MAE=7.66, RMSE=9.28\n",
      "\n",
      "Clarke Error Grid for ARIMA_Fold1:\n",
      "Zone A: 92.00%\n",
      "Zone B: 2.33%\n",
      "Zone C: 0.00%\n",
      "Zone D: 5.67%\n",
      "Zone E: 0.00%\n",
      "ARIMA Fold 64: MAE=12.04, RMSE=14.61\n",
      "\n",
      "Clarke Error Grid for ARIMA_Fold64:\n",
      "Zone A: 80.33%\n",
      "Zone B: 14.67%\n",
      "Zone C: 0.00%\n",
      "Zone D: 5.00%\n",
      "Zone E: 0.00%\n",
      "ARIMA Fold 128: MAE=11.33, RMSE=14.08\n",
      "\n",
      "Clarke Error Grid for ARIMA_Fold128:\n",
      "Zone A: 93.00%\n",
      "Zone B: 7.00%\n",
      "Zone C: 0.00%\n",
      "Zone D: 0.00%\n",
      "Zone E: 0.00%\n",
      "ARIMA Fold 192: MAE=6.55, RMSE=8.00\n",
      "\n",
      "Clarke Error Grid for ARIMA_Fold192:\n",
      "Zone A: 94.00%\n",
      "Zone B: 6.00%\n",
      "Zone C: 0.00%\n",
      "Zone D: 0.00%\n",
      "Zone E: 0.00%\n",
      "ARIMA Fold 256: MAE=16.82, RMSE=21.22\n",
      "\n",
      "Clarke Error Grid for ARIMA_Fold256:\n",
      "Zone A: 76.33%\n",
      "Zone B: 22.67%\n",
      "Zone C: 0.00%\n",
      "Zone D: 1.00%\n",
      "Zone E: 0.00%\n",
      "ARIMA Fold 320: MAE=32.38, RMSE=38.87\n",
      "\n",
      "Clarke Error Grid for ARIMA_Fold320:\n",
      "Zone A: 55.00%\n",
      "Zone B: 44.00%\n",
      "Zone C: 0.00%\n",
      "Zone D: 1.00%\n",
      "Zone E: 0.00%\n",
      "ARIMA Fold 384: MAE=12.19, RMSE=15.29\n",
      "\n",
      "Clarke Error Grid for ARIMA_Fold384:\n",
      "Zone A: 79.67%\n",
      "Zone B: 16.67%\n",
      "Zone C: 0.00%\n",
      "Zone D: 3.67%\n",
      "Zone E: 0.00%\n",
      "ARIMA Fold 448: MAE=12.70, RMSE=16.19\n",
      "\n",
      "Clarke Error Grid for ARIMA_Fold448:\n",
      "Zone A: 79.67%\n",
      "Zone B: 15.00%\n",
      "Zone C: 0.00%\n",
      "Zone D: 5.33%\n",
      "Zone E: 0.00%\n",
      "ARIMA Fold 512: MAE=5.86, RMSE=6.97\n",
      "\n",
      "Clarke Error Grid for ARIMA_Fold512:\n",
      "Zone A: 99.33%\n",
      "Zone B: 0.67%\n",
      "Zone C: 0.00%\n",
      "Zone D: 0.00%\n",
      "Zone E: 0.00%\n",
      "ARIMA Fold 576: MAE=8.40, RMSE=11.90\n",
      "\n",
      "Clarke Error Grid for ARIMA_Fold576:\n",
      "Zone A: 89.33%\n",
      "Zone B: 8.67%\n",
      "Zone C: 0.00%\n",
      "Zone D: 2.00%\n",
      "Zone E: 0.00%\n",
      "\n",
      "ARIMA Overall:\n",
      "MAE=12.59, RMSE=15.64\n",
      "\n",
      "Clarke Error Grid for ARIMA_AllFolds:\n",
      "Zone A: 83.87%\n",
      "Zone B: 13.77%\n",
      "Zone C: 0.00%\n",
      "Zone D: 2.37%\n",
      "Zone E: 0.00%\n"
     ]
    },
    {
     "data": {
      "text/plain": [
       "(<module 'matplotlib.pyplot' from '/home/smitsis/glucose_level_prediction/.venv/lib/python3.10/site-packages/matplotlib/pyplot.py'>,\n",
       " [2516, 413, 0, 71, 0])"
      ]
     },
     "execution_count": 20,
     "metadata": {},
     "output_type": "execute_result"
    },
    {
     "data": {
      "image/png": "[encoded data removed]",
      "text/plain": [
       "<Figure size 640x480 with 1 Axes>"
      ]
     },
     "metadata": {},
     "output_type": "display_data"
    }
   ],
   "source": [
    "def walk_forward_splits(ts: TimeSeries, past_cov: TimeSeries, initial_train_size: int,\n",
    "                         horizon: int, step: int = 1):\n",
    "    n = len(ts)\n",
    "    splits = []\n",
    "    for end_train in range(initial_train_size, n, step):\n",
    "        if end_train + horizon > n:\n",
    "            break\n",
    "        splits.append({\n",
    "            \"train_ts\":   ts[:end_train],\n",
    "            \"val_ts\":     ts[end_train:end_train + horizon],\n",
    "            \"train_past\": past_cov[:end_train],\n",
    "            \"val_past\":   past_cov[end_train:end_train + horizon],\n",
    "        })\n",
    "    return splits\n",
    "\n",
    "# 2) Global parameters & data (unchanged)\n",
    "HORIZON = 12\n",
    "INITIAL_TRAIN = len(cgm_series[0]) // 5\n",
    "STEP = 12\n",
    "N_FOLDS = 10\n",
    "\n",
    "# scale target globally\n",
    "target_scaler = Scaler(global_fit=True)\n",
    "target_scaler.fit(cgm_series)\n",
    "scaled_series = target_scaler.transform(cgm_series)\n",
    "\n",
    "# prepare all splits\n",
    "all_splits = [\n",
    "    walk_forward_splits(scaled_series[i], past_covariates[i], INITIAL_TRAIN, HORIZON, STEP)\n",
    "    for i in range(len(scaled_series))\n",
    "]\n",
    "available = len(all_splits[0])\n",
    "fold_indices = np.linspace(0, available - 1, min(N_FOLDS, available), dtype=int)\n",
    "\n",
    "# 3) ARIMA Walk-Forward CV only\n",
    "print(\"\\n=== ARIMA Walk-Forward CV ===\")\n",
    "arima_mae, arima_rmse = [], []\n",
    "all_preds, all_vals = [], []\n",
    "\n",
    "for fold_idx in fold_indices:\n",
    "    # gather train/val splits\n",
    "    ts_tr  = [s[fold_idx]['train_ts'] for s in all_splits]\n",
    "    ts_val = [s[fold_idx]['val_ts']   for s in all_splits]\n",
    "\n",
    "    fold_preds, maes, rmses = [], [], []\n",
    "    for tr, val in zip(ts_tr, ts_val):\n",
    "\n",
    "        arima_model = ARIMA(p=12, d=1, q=1)  \n",
    "        arima_model.fit(tr)\n",
    "        pred_s = arima_model.predict(len(val))\n",
    "\n",
    "        # unscale\n",
    "        orig_val  = target_scaler.inverse_transform(val).pd_series()\n",
    "        orig_pred = target_scaler.inverse_transform(pred_s).pd_series()\n",
    "\n",
    "        # back to TimeSeries\n",
    "        ts_v = TimeSeries.from_series(orig_val)\n",
    "        ts_p = TimeSeries.from_series(orig_pred)\n",
    "\n",
    "        fold_preds.append(ts_p)\n",
    "        maes.append(mae(ts_v, ts_p))\n",
    "        rmses.append(rmse(ts_v, ts_p))\n",
    "\n",
    "        all_vals.append(ts_v)\n",
    "        all_preds.append(ts_p)\n",
    "\n",
    "    m, r = np.mean(maes), np.mean(rmses)\n",
    "    arima_mae.append(m)\n",
    "    arima_rmse.append(r)\n",
    "    print(f\"ARIMA Fold {fold_idx+1}: MAE={m:.2f}, RMSE={r:.2f}\")\n",
    "\n",
    "    # per-fold Clarke Error Grid\n",
    "    evaluate_clarke_error(\n",
    "        fold_preds,\n",
    "        [target_scaler.inverse_transform(v) for v in ts_val],\n",
    "        model_name=f\"ARIMA_Fold{fold_idx+1}\"\n",
    "    )\n",
    "\n",
    "# overall metrics & Clarke grid\n",
    "print(\"\\nARIMA Overall:\")\n",
    "print(f\"MAE={np.mean(arima_mae):.2f}, RMSE={np.mean(arima_rmse):.2f}\")\n",
    "evaluate_clarke_error(\n",
    "    all_preds,\n",
    "    all_vals,\n",
    "    model_name=\"ARIMA_AllFolds\"\n",
    ")\n"
   ]
  },
  {
   "cell_type": "markdown",
   "id": "58e68107-7227-4760-a89a-98b3eba84fe4",
   "metadata": {},
   "source": [
    "# Full train 10 epochs"
   ]
  },
  {
   "cell_type": "code",
   "execution_count": 34,
   "id": "0df68789-25e8-4178-9510-f43c64ef5616",
   "metadata": {},
   "outputs": [
    {
     "data": {
      "application/vnd.jupyter.widget-view+json": {
       "model_id": "2a640a103199420ba0b57a3fe93f184c",
       "version_major": 2,
       "version_minor": 0
      },
      "text/plain": [
       "Sanity Checking: |                                                                                            …"
      ]
     },
     "metadata": {},
     "output_type": "display_data"
    },
    {
     "data": {
      "application/vnd.jupyter.widget-view+json": {
       "model_id": "523d609c06bf4ab3838e471eb6f9e262",
       "version_major": 2,
       "version_minor": 0
      },
      "text/plain": [
       "Training: |                                                                                                   …"
      ]
     },
     "metadata": {},
     "output_type": "display_data"
    },
    {
     "data": {
      "application/vnd.jupyter.widget-view+json": {
       "model_id": "309b012904ac4b25b285f6afa8760e23",
       "version_major": 2,
       "version_minor": 0
      },
      "text/plain": [
       "Validation: |                                                                                                 …"
      ]
     },
     "metadata": {},
     "output_type": "display_data"
    },
    {
     "data": {
      "application/vnd.jupyter.widget-view+json": {
       "model_id": "96eef7a86d9f4628afabeca67e445876",
       "version_major": 2,
       "version_minor": 0
      },
      "text/plain": [
       "Validation: |                                                                                                 …"
      ]
     },
     "metadata": {},
     "output_type": "display_data"
    },
    {
     "data": {
      "application/vnd.jupyter.widget-view+json": {
       "model_id": "54b1bf21980b46bb989e57e8cfbc4cea",
       "version_major": 2,
       "version_minor": 0
      },
      "text/plain": [
       "Validation: |                                                                                                 …"
      ]
     },
     "metadata": {},
     "output_type": "display_data"
    },
    {
     "data": {
      "application/vnd.jupyter.widget-view+json": {
       "model_id": "24ae7c84f2ee4cd48da870f65990dee8",
       "version_major": 2,
       "version_minor": 0
      },
      "text/plain": [
       "Validation: |                                                                                                 …"
      ]
     },
     "metadata": {},
     "output_type": "display_data"
    },
    {
     "data": {
      "application/vnd.jupyter.widget-view+json": {
       "model_id": "54d90fd0a8ec4c48a96a96f61c1314b1",
       "version_major": 2,
       "version_minor": 0
      },
      "text/plain": [
       "Validation: |                                                                                                 …"
      ]
     },
     "metadata": {},
     "output_type": "display_data"
    },
    {
     "data": {
      "application/vnd.jupyter.widget-view+json": {
       "model_id": "b6268f1601004e0d9611901746ca93f9",
       "version_major": 2,
       "version_minor": 0
      },
      "text/plain": [
       "Validation: |                                                                                                 …"
      ]
     },
     "metadata": {},
     "output_type": "display_data"
    },
    {
     "data": {
      "application/vnd.jupyter.widget-view+json": {
       "model_id": "1b6db0ef14834e0982127ce480aaf17f",
       "version_major": 2,
       "version_minor": 0
      },
      "text/plain": [
       "Validation: |                                                                                                 …"
      ]
     },
     "metadata": {},
     "output_type": "display_data"
    },
    {
     "data": {
      "application/vnd.jupyter.widget-view+json": {
       "model_id": "fda70a34aa7a4dee930e4dfeec8e0fc2",
       "version_major": 2,
       "version_minor": 0
      },
      "text/plain": [
       "Validation: |                                                                                                 …"
      ]
     },
     "metadata": {},
     "output_type": "display_data"
    },
    {
     "data": {
      "application/vnd.jupyter.widget-view+json": {
       "model_id": "b0d76b75b7194a53b211690ae4848227",
       "version_major": 2,
       "version_minor": 0
      },
      "text/plain": [
       "Validation: |                                                                                                 …"
      ]
     },
     "metadata": {},
     "output_type": "display_data"
    },
    {
     "data": {
      "application/vnd.jupyter.widget-view+json": {
       "model_id": "dc91ab72a7e84c009e84749f55456a98",
       "version_major": 2,
       "version_minor": 0
      },
      "text/plain": [
       "Validation: |                                                                                                 …"
      ]
     },
     "metadata": {},
     "output_type": "display_data"
    },
    {
     "data": {
      "application/vnd.jupyter.widget-view+json": {
       "model_id": "e697bd78ad0c4f3d8bfa2127407773f0",
       "version_major": 2,
       "version_minor": 0
      },
      "text/plain": [
       "Validation: |                                                                                                 …"
      ]
     },
     "metadata": {},
     "output_type": "display_data"
    },
    {
     "data": {
      "application/vnd.jupyter.widget-view+json": {
       "model_id": "d50e3500f5504734ae1fdb7e05ee1e39",
       "version_major": 2,
       "version_minor": 0
      },
      "text/plain": [
       "Validation: |                                                                                                 …"
      ]
     },
     "metadata": {},
     "output_type": "display_data"
    },
    {
     "data": {
      "application/vnd.jupyter.widget-view+json": {
       "model_id": "9bb1096699ca4d2d89745eee37206fa9",
       "version_major": 2,
       "version_minor": 0
      },
      "text/plain": [
       "Validation: |                                                                                                 …"
      ]
     },
     "metadata": {},
     "output_type": "display_data"
    },
    {
     "data": {
      "application/vnd.jupyter.widget-view+json": {
       "model_id": "3dceee3703ea45bba4bcb0385859b08c",
       "version_major": 2,
       "version_minor": 0
      },
      "text/plain": [
       "Validation: |                                                                                                 …"
      ]
     },
     "metadata": {},
     "output_type": "display_data"
    },
    {
     "data": {
      "application/vnd.jupyter.widget-view+json": {
       "model_id": "79598c85e3ec46f4854d81833739f268",
       "version_major": 2,
       "version_minor": 0
      },
      "text/plain": [
       "Validation: |                                                                                                 …"
      ]
     },
     "metadata": {},
     "output_type": "display_data"
    },
    {
     "data": {
      "application/vnd.jupyter.widget-view+json": {
       "model_id": "75f9ad065d9c46c3ba105b3fd947ca05",
       "version_major": 2,
       "version_minor": 0
      },
      "text/plain": [
       "Validation: |                                                                                                 …"
      ]
     },
     "metadata": {},
     "output_type": "display_data"
    },
    {
     "data": {
      "application/vnd.jupyter.widget-view+json": {
       "model_id": "4eccc6c8aff0482b92232767683d2976",
       "version_major": 2,
       "version_minor": 0
      },
      "text/plain": [
       "Validation: |                                                                                                 …"
      ]
     },
     "metadata": {},
     "output_type": "display_data"
    },
    {
     "data": {
      "application/vnd.jupyter.widget-view+json": {
       "model_id": "e3be21602f204bcf9b2bdc11a689902b",
       "version_major": 2,
       "version_minor": 0
      },
      "text/plain": [
       "Validation: |                                                                                                 …"
      ]
     },
     "metadata": {},
     "output_type": "display_data"
    },
    {
     "data": {
      "application/vnd.jupyter.widget-view+json": {
       "model_id": "bb951e68336e40cd88485669251ed38c",
       "version_major": 2,
       "version_minor": 0
      },
      "text/plain": [
       "Validation: |                                                                                                 …"
      ]
     },
     "metadata": {},
     "output_type": "display_data"
    },
    {
     "data": {
      "application/vnd.jupyter.widget-view+json": {
       "model_id": "46526c4e364a4663826bd2eb5faf1187",
       "version_major": 2,
       "version_minor": 0
      },
      "text/plain": [
       "Validation: |                                                                                                 …"
      ]
     },
     "metadata": {},
     "output_type": "display_data"
    },
    {
     "data": {
      "text/plain": [
       "TransformerModel(output_chunk_shift=0, d_model=64, nhead=4, num_encoder_layers=3, num_decoder_layers=3, dim_feedforward=512, dropout=0.1, activation=relu, norm_type=None, custom_encoder=None, custom_decoder=None, input_chunk_length=72, output_chunk_length=12, model_name=Transformer_Final_All_20_25, n_epochs=20, log_tensorboard=True, random_state=42)"
      ]
     },
     "execution_count": 34,
     "metadata": {},
     "output_type": "execute_result"
    }
   ],
   "source": [
    "excluded_ids = [\"child#001\", \"adult#001\", \"adolescent#001\"]\n",
    "\n",
    "# 2) Read & preprocess only the hold-out CSVs\n",
    "holdout_series = []\n",
    "for csv_path in glob.glob(os.path.join(folder_path, \"*.csv\")):\n",
    "    pid = os.path.basename(csv_path).split(\".\")[0]\n",
    "    if pid not in excluded_ids:\n",
    "        continue\n",
    "\n",
    "    df = pd.read_csv(csv_path)\n",
    "    df[\"Time\"] = pd.to_datetime(df[\"Time\"])\n",
    "    df[\"time_idx\"] = (df[\"Time\"].astype(int) // 10**9) // 300\n",
    "    df[\"time_idx\"] -= df[\"time_idx\"].min()\n",
    "    df[\"hour\"] = df[\"Time\"].dt.hour\n",
    "    df = df.drop(columns=[\"Time\"])\n",
    "\n",
    "    holdout_series.append(TimeSeries.from_dataframe(df, time_col=\"time_idx\"))\n",
    "\n",
    "holdout_cgm = [ts[\"CGM\"] for ts in holdout_series]\n",
    "scaled_holdout_cgm = target_scaler.transform(holdout_cgm)\n",
    "\n",
    "# 4) Recreate & scale their past covariates\n",
    "holdout_past = [create_past_covariates(ts).astype(np.float32) for ts in holdout_series]\n",
    "holdout_past_scaled = global_past_scaler.transform(holdout_past)\n",
    "\n",
    "\n",
    "final_model_10 = TransformerModel(\n",
    "    input_chunk_length=72,\n",
    "    output_chunk_length=12,\n",
    "    model_name=\"Transformer_Final_All_20_25\",\n",
    "    n_epochs=20,\n",
    "    log_tensorboard=True,\n",
    "    random_state=42\n",
    ")\n",
    "\n",
    "# 5) Now you can fit with validation loss:\n",
    "final_model_10.fit(\n",
    "    series=full_train_ts,\n",
    "    past_covariates=full_train_past_scaled,\n",
    "    val_series=scaled_holdout_cgm,\n",
    "    val_past_covariates=holdout_past_scaled,\n",
    "    dataloader_kwargs={'num_workers':4},\n",
    "    verbose=True\n",
    ")"
   ]
  },
  {
   "cell_type": "code",
   "execution_count": 35,
   "id": "cf5cffd9-4af8-4601-8e8e-ce9d0c451653",
   "metadata": {},
   "outputs": [
    {
     "data": {
      "application/vnd.jupyter.widget-view+json": {
       "model_id": "37b9e553271d4f4bb324a60a58269785",
       "version_major": 2,
       "version_minor": 0
      },
      "text/plain": [
       "Predicting: |                                                                                                 …"
      ]
     },
     "metadata": {},
     "output_type": "display_data"
    },
    {
     "name": "stdout",
     "output_type": "stream",
     "text": [
      "\n",
      "Clarke Error Grid for Transformer_Holdout:\n",
      "Zone A: 89.22%\n",
      "Zone B: 8.88%\n",
      "Zone C: 0.00%\n",
      "Zone D: 1.90%\n",
      "Zone E: 0.00%\n"
     ]
    },
    {
     "data": {
      "image/png": "[encoded data removed]",
      "text/plain": [
       "<Figure size 640x480 with 1 Axes>"
      ]
     },
     "metadata": {},
     "output_type": "display_data"
    },
    {
     "name": "stdout",
     "output_type": "stream",
     "text": [
      "Hold-out MAE:  10.18\n",
      "Hold-out RMSE: 14.13\n",
      "Hold-out runtime: 5.74s\n",
      "Hold-out Clarke zones: [22932, 2283, 0, 489, 0]\n"
     ]
    }
   ],
   "source": [
    "holdout_maes, holdout_rmses, holdout_time, holdout_zones = backtest_model(\n",
    "    model=final_model_10,\n",
    "    model_name=\"Transformer_Holdout\",\n",
    "    val_series=scaled_holdout_cgm,\n",
    "    scaler=target_scaler,\n",
    "    forecast_horizon=12,\n",
    "    stride=12,\n",
    "    retrain=False,\n",
    "    verbose=True,\n",
    "    last_points_only=False,\n",
    "    save_dir=\"holdout_results\",\n",
    "    past_covariates=holdout_past_scaled\n",
    ")\n",
    "\n",
    "print(f\"Hold-out MAE:  {np.mean(holdout_maes):.2f}\")\n",
    "print(f\"Hold-out RMSE: {np.mean(holdout_rmses):.2f}\")\n",
    "print(f\"Hold-out runtime: {holdout_time:.2f}s\")\n",
    "print(f\"Hold-out Clarke zones: {holdout_zones}\")"
   ]
  },
  {
   "cell_type": "markdown",
   "id": "62e1e560-1d38-4ad0-ab84-9b3d935eaec1",
   "metadata": {},
   "source": [
    "# ARIMA holdout"
   ]
  },
  {
   "cell_type": "code",
   "execution_count": null,
   "id": "81a7e35e-0abf-4770-8cb3-059f1e562fe4",
   "metadata": {},
   "outputs": [],
   "source": [
    "arima_model = ARIMA(p=12, d=1, q=1)\n",
    "\n",
    "# 2) Backtest on the same 3 hold-outs\n",
    "holdout_maes_arima, holdout_rmses_arima, holdout_time_arima, holdout_zones_arima = backtest_model(\n",
    "    model            = arima_model,\n",
    "    model_name       = \"ARIMA_Holdout\",\n",
    "    val_series       = scaled_holdout_cgm,   \n",
    "    scaler           = target_scaler,\n",
    "    forecast_horizon = 12,\n",
    "    stride           = 12,\n",
    "    retrain          = False,\n",
    "    verbose          = True,\n",
    "    last_points_only = False,\n",
    "    save_dir         = \"arima_results\",      \n",
    "    past_covariates  = None,                 \n",
    "    future_covariates= None,\n",
    ")\n",
    "\n",
    "print(f\"ARIMA Hold-out MAE:  {np.mean(holdout_maes_arima):.2f}\")\n",
    "print(f\"ARIMA Hold-out RMSE: {np.mean(holdout_rmses_arima):.2f}\")\n",
    "print(f\"ARIMA Hold-out runtime: {holdout_time_arima:.2f}s\")\n",
    "print(f\"ARIMA Hold-out Clarke zones: {holdout_zones_arima}\")"
   ]
  },
  {
   "cell_type": "code",
   "execution_count": null,
   "id": "e95cf1df-504c-460a-819a-13d0a3c9e2d3",
   "metadata": {},
   "outputs": [],
   "source": []
  }
 ],
 "metadata": {
  "kernelspec": {
   "display_name": "glucose-level-prediction",
   "language": "python",
   "name": "myenv"
  },
  "language_info": {
   "codemirror_mode": {
    "name": "ipython",
    "version": 3
   },
   "file_extension": ".py",
   "mimetype": "text/x-python",
   "name": "python",
   "nbconvert_exporter": "python",
   "pygments_lexer": "ipython3",
   "version": "3.10.12"
  }
 },
 "nbformat": 4,
 "nbformat_minor": 5
}
